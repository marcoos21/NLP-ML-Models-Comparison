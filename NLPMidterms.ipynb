{
 "cells": [
  {
   "cell_type": "markdown",
   "id": "c33ece08-eab7-4446-9e3f-537dcb358263",
   "metadata": {},
   "source": [
    "# Introduction"
   ]
  },
  {
   "cell_type": "markdown",
   "id": "16310c54-2e41-4b15-a301-26280c4764f8",
   "metadata": {},
   "source": [
    "## Domain-specific Area"
   ]
  },
  {
   "cell_type": "markdown",
   "id": "fc4376bc-8af3-414b-a549-5d6ef6a45d0c",
   "metadata": {},
   "source": [
    "With social media platforms on the rise, in terms of usage, it has transformed how information is and will be disseminated and consumed by someone. While social media has numerous benefits, it does pose significant challenges or disadvantages. With one of them being, the increasing spread of misinformation, also known as fake news, it's becoming a significant concern in today's digital age. This is why a Fake news detection algorithm is crucial in maintaining the integrity of information that is being disseminated through social media and other online platforms such as blogs. According to a Malaysian journal of Medicine and Health Sciences, social media and internet can also be the culprit in the spread of misinformation to the public.\n",
    "\n",
    "Text classification methodologies includes both traditional statistical models and deep learning approaches, these play a crucial role in identifying and mitigating the spread of fake news. By categorizing the tweets into predefined labels, which in this case would be \"real\" and \"fake\", the models can assist in filtering out misinformation before it reaches to a wider audience. However, these predefined labels will need to be converted into binary figures, 1s and 0s, before being inserted into the models. This project will focus on developing and comparing text classification methods to achieve the ability to successfully distinguish between fake and real tweets. The project also aims to explore the effectiveness of different text classification methods in categorizing tweets according to real and fake and providing insights into their applicability and performance in real-world scenarios. "
   ]
  },
  {
   "cell_type": "markdown",
   "id": "1466f31d-a32c-4fa2-98f1-1e3b74ae5b04",
   "metadata": {},
   "source": [
    "## Objectives"
   ]
  },
  {
   "cell_type": "markdown",
   "id": "c5b3b019-baab-413a-93b0-bbbbcba90cd6",
   "metadata": {},
   "source": [
    "The primary objectives of this project are too compare the performance of traditional statistical models and a modern deep learning model in text classification, specifically in identifying real and fake tweets. The comparison done in this project will highlight the strengths and weakness of each approach and it will allow us to determine their suitability for different types of text classification challenges. Here are the specific goals:\n",
    "\n",
    "1. Evaluation of Model Performance\n",
    "   - To be able to effectively assess the traditional statistical model and modern deep learning model in calssifying tweets as real or fake\n",
    "2. Comparison of Approaches\n",
    "   - Effectively identify the strengths and weaknesses of each approach through the comparison of their performance metrics and analyzing their applicability in real-world case scenarios\n",
    "3. Improvement of Understanding\n",
    "    - To gain a better understanding of text classification tasks\n",
    "  \n",
    "These objectives will aim to contribute to combating against misinformation by improving the tools available for automatic text classification and providing an understanding of trade-offs when using different models."
   ]
  },
  {
   "cell_type": "markdown",
   "id": "4c5f88a3-dada-4bae-a7d5-6e16105235d4",
   "metadata": {},
   "source": [
    "## Dataset Description"
   ]
  },
  {
   "cell_type": "markdown",
   "id": "13fe685b-ee02-4cb0-afe2-25f1ff6c4081",
   "metadata": {},
   "source": [
    "\n",
    "The \"COVID19 Fake News Dataset NLP\" dataset was taken from Kaggle where it is about COVID-19 Fake and Real Tweets where it has 6,420 unqiue entries in the training dataset, 2,140 unique entries in the validation dataset and another 2,140 unqiue entries in the testing dataset. These datasets was intially part of a task for a competition on hostile post detection.\n",
    "These datasets mainly contains strings for the tweets content and categorization of tweets. The only integer type of the dataset would be the unique ID for each tweet."
   ]
  },
  {
   "cell_type": "markdown",
   "id": "266e8b61-1500-48e9-8676-fa52c2a23b9b",
   "metadata": {},
   "source": [
    "## Evaluation Methodology"
   ]
  },
  {
   "cell_type": "markdown",
   "id": "0fa4f3ee-4fa3-4cf4-aff7-45481c8d9a74",
   "metadata": {},
   "source": [
    "In this section, I will be discussing about the evaluation metrics used to measure the performance of the models.\n",
    "\n",
    "- Accuracy: Ratio of correctly predicted instances to total instances\n",
    "- Precision: Ratio of true positive predictions to total predicted positives\n",
    "- Recall: Ratio of true positive predictions to total actual positives\n",
    "- F1-Score: A combination mean of precision and recall, a single metric that has the balance of both\n",
    "\n",
    "These metrics will both be utilized in the computation for the traditional statistical model, KNN, and the deep learning model, LSTM. The comparison will be based on the validation set results to determine which of the two models performs better in the identification and classification of fake and real tweets. \n",
    "\n",
    "The dataset has already been split into training, validation and testing sets to ensure a robust evaluation. Where the training set will be utilized to train the models and testing set will be used to evaluate the final performance.\n",
    "\n",
    "By following this evaluation methodology, the project aims to provide a comprehensive analysis of the effectiveness of the traditional (KNN) and deep learning model (LSTM with Word2Vec) in text classification."
   ]
  },
  {
   "cell_type": "code",
   "execution_count": 3,
   "id": "5ca3957f-ea60-46bd-b98b-9719de18bc20",
   "metadata": {},
   "outputs": [],
   "source": [
    "# Import of libraries\n",
    "import pandas as pd\n",
    "import numpy as np\n",
    "from sklearn.model_selection import train_test_split\n",
    "from sklearn.feature_extraction.text import CountVectorizer\n",
    "from sklearn.linear_model import LogisticRegression\n",
    "from sklearn.metrics import accuracy_score, precision_score, recall_score, f1_score\n",
    "from tensorflow.keras.preprocessing.text import Tokenizer\n",
    "from tensorflow.keras.preprocessing.sequence import pad_sequences\n",
    "from tensorflow.keras.models import Sequential\n",
    "from tensorflow.keras.layers import Embedding, LSTM, Dense, Dropout, Bidirectional\n",
    "from tensorflow.keras.callbacks import EarlyStopping, ReduceLROnPlateau"
   ]
  },
  {
   "cell_type": "code",
   "execution_count": 4,
   "id": "0683e2ce-b1f5-456c-acea-8449e8539052",
   "metadata": {},
   "outputs": [],
   "source": [
    "# Loading of datasets\n",
    "train_df = pd.read_csv('data_train.csv')\n",
    "val_df = pd.read_csv('data_val.csv')\n",
    "test_df = pd.read_csv('data_test.csv')"
   ]
  },
  {
   "cell_type": "markdown",
   "id": "05325bee-d484-4750-a3f7-6e2e2323186f",
   "metadata": {},
   "source": [
    "## Data Preprocessing"
   ]
  },
  {
   "cell_type": "code",
   "execution_count": 5,
   "id": "826a55cc-917a-4f2e-a9a0-f7d3c9a15bf0",
   "metadata": {},
   "outputs": [
    {
     "data": {
      "text/html": [
       "<div>\n",
       "<style scoped>\n",
       "    .dataframe tbody tr th:only-of-type {\n",
       "        vertical-align: middle;\n",
       "    }\n",
       "\n",
       "    .dataframe tbody tr th {\n",
       "        vertical-align: top;\n",
       "    }\n",
       "\n",
       "    .dataframe thead th {\n",
       "        text-align: right;\n",
       "    }\n",
       "</style>\n",
       "<table border=\"1\" class=\"dataframe\">\n",
       "  <thead>\n",
       "    <tr style=\"text-align: right;\">\n",
       "      <th></th>\n",
       "      <th>id</th>\n",
       "      <th>tweet</th>\n",
       "      <th>label</th>\n",
       "    </tr>\n",
       "  </thead>\n",
       "  <tbody>\n",
       "    <tr>\n",
       "      <th>0</th>\n",
       "      <td>1</td>\n",
       "      <td>The CDC currently reports 99031 deaths. In gen...</td>\n",
       "      <td>real</td>\n",
       "    </tr>\n",
       "    <tr>\n",
       "      <th>1</th>\n",
       "      <td>2</td>\n",
       "      <td>States reported 1121 deaths a small rise from ...</td>\n",
       "      <td>real</td>\n",
       "    </tr>\n",
       "    <tr>\n",
       "      <th>2</th>\n",
       "      <td>3</td>\n",
       "      <td>Politically Correct Woman (Almost) Uses Pandem...</td>\n",
       "      <td>fake</td>\n",
       "    </tr>\n",
       "    <tr>\n",
       "      <th>3</th>\n",
       "      <td>4</td>\n",
       "      <td>#IndiaFightsCorona: We have 1524 #COVID testin...</td>\n",
       "      <td>real</td>\n",
       "    </tr>\n",
       "    <tr>\n",
       "      <th>4</th>\n",
       "      <td>5</td>\n",
       "      <td>Populous states can generate large case counts...</td>\n",
       "      <td>real</td>\n",
       "    </tr>\n",
       "  </tbody>\n",
       "</table>\n",
       "</div>"
      ],
      "text/plain": [
       "   id                                              tweet label\n",
       "0   1  The CDC currently reports 99031 deaths. In gen...  real\n",
       "1   2  States reported 1121 deaths a small rise from ...  real\n",
       "2   3  Politically Correct Woman (Almost) Uses Pandem...  fake\n",
       "3   4  #IndiaFightsCorona: We have 1524 #COVID testin...  real\n",
       "4   5  Populous states can generate large case counts...  real"
      ]
     },
     "execution_count": 5,
     "metadata": {},
     "output_type": "execute_result"
    }
   ],
   "source": [
    "train_df.head()"
   ]
  },
  {
   "cell_type": "code",
   "execution_count": 6,
   "id": "c53b2e60-b454-4165-8e0d-ca6fe841d65c",
   "metadata": {},
   "outputs": [
    {
     "data": {
      "text/html": [
       "<div>\n",
       "<style scoped>\n",
       "    .dataframe tbody tr th:only-of-type {\n",
       "        vertical-align: middle;\n",
       "    }\n",
       "\n",
       "    .dataframe tbody tr th {\n",
       "        vertical-align: top;\n",
       "    }\n",
       "\n",
       "    .dataframe thead th {\n",
       "        text-align: right;\n",
       "    }\n",
       "</style>\n",
       "<table border=\"1\" class=\"dataframe\">\n",
       "  <thead>\n",
       "    <tr style=\"text-align: right;\">\n",
       "      <th></th>\n",
       "      <th>id</th>\n",
       "      <th>tweet</th>\n",
       "      <th>label</th>\n",
       "    </tr>\n",
       "  </thead>\n",
       "  <tbody>\n",
       "    <tr>\n",
       "      <th>0</th>\n",
       "      <td>1</td>\n",
       "      <td>Chinese converting to Islam after realising th...</td>\n",
       "      <td>fake</td>\n",
       "    </tr>\n",
       "    <tr>\n",
       "      <th>1</th>\n",
       "      <td>2</td>\n",
       "      <td>11 out of 13 people (from the Diamond Princess...</td>\n",
       "      <td>fake</td>\n",
       "    </tr>\n",
       "    <tr>\n",
       "      <th>2</th>\n",
       "      <td>3</td>\n",
       "      <td>COVID-19 Is Caused By A Bacterium, Not Virus A...</td>\n",
       "      <td>fake</td>\n",
       "    </tr>\n",
       "    <tr>\n",
       "      <th>3</th>\n",
       "      <td>4</td>\n",
       "      <td>Mike Pence in RNC speech praises Donald Trump’...</td>\n",
       "      <td>fake</td>\n",
       "    </tr>\n",
       "    <tr>\n",
       "      <th>4</th>\n",
       "      <td>5</td>\n",
       "      <td>6/10 Sky's @EdConwaySky explains the latest #C...</td>\n",
       "      <td>real</td>\n",
       "    </tr>\n",
       "  </tbody>\n",
       "</table>\n",
       "</div>"
      ],
      "text/plain": [
       "   id                                              tweet label\n",
       "0   1  Chinese converting to Islam after realising th...  fake\n",
       "1   2  11 out of 13 people (from the Diamond Princess...  fake\n",
       "2   3  COVID-19 Is Caused By A Bacterium, Not Virus A...  fake\n",
       "3   4  Mike Pence in RNC speech praises Donald Trump’...  fake\n",
       "4   5  6/10 Sky's @EdConwaySky explains the latest #C...  real"
      ]
     },
     "execution_count": 6,
     "metadata": {},
     "output_type": "execute_result"
    }
   ],
   "source": [
    "val_df.head()"
   ]
  },
  {
   "cell_type": "code",
   "execution_count": 7,
   "id": "d555c792-5e3f-49db-beac-0ca6fab01c38",
   "metadata": {},
   "outputs": [
    {
     "data": {
      "text/html": [
       "<div>\n",
       "<style scoped>\n",
       "    .dataframe tbody tr th:only-of-type {\n",
       "        vertical-align: middle;\n",
       "    }\n",
       "\n",
       "    .dataframe tbody tr th {\n",
       "        vertical-align: top;\n",
       "    }\n",
       "\n",
       "    .dataframe thead th {\n",
       "        text-align: right;\n",
       "    }\n",
       "</style>\n",
       "<table border=\"1\" class=\"dataframe\">\n",
       "  <thead>\n",
       "    <tr style=\"text-align: right;\">\n",
       "      <th></th>\n",
       "      <th>id</th>\n",
       "      <th>tweet</th>\n",
       "    </tr>\n",
       "  </thead>\n",
       "  <tbody>\n",
       "    <tr>\n",
       "      <th>0</th>\n",
       "      <td>1</td>\n",
       "      <td>Our daily update is published. States reported...</td>\n",
       "    </tr>\n",
       "    <tr>\n",
       "      <th>1</th>\n",
       "      <td>2</td>\n",
       "      <td>Alfalfa is the only cure for COVID-19.</td>\n",
       "    </tr>\n",
       "    <tr>\n",
       "      <th>2</th>\n",
       "      <td>3</td>\n",
       "      <td>President Trump Asked What He Would Do If He W...</td>\n",
       "    </tr>\n",
       "    <tr>\n",
       "      <th>3</th>\n",
       "      <td>4</td>\n",
       "      <td>States reported 630 deaths. We are still seein...</td>\n",
       "    </tr>\n",
       "    <tr>\n",
       "      <th>4</th>\n",
       "      <td>5</td>\n",
       "      <td>This is the sixth time a global health emergen...</td>\n",
       "    </tr>\n",
       "  </tbody>\n",
       "</table>\n",
       "</div>"
      ],
      "text/plain": [
       "   id                                              tweet\n",
       "0   1  Our daily update is published. States reported...\n",
       "1   2             Alfalfa is the only cure for COVID-19.\n",
       "2   3  President Trump Asked What He Would Do If He W...\n",
       "3   4  States reported 630 deaths. We are still seein...\n",
       "4   5  This is the sixth time a global health emergen..."
      ]
     },
     "execution_count": 7,
     "metadata": {},
     "output_type": "execute_result"
    }
   ],
   "source": [
    "test_df.head()"
   ]
  },
  {
   "cell_type": "markdown",
   "id": "6c952ddb-dd38-4539-a946-66b1e1385a0a",
   "metadata": {},
   "source": [
    "### Checking for Null Values"
   ]
  },
  {
   "cell_type": "code",
   "execution_count": 8,
   "id": "365c43ed-6175-43ff-a9ae-b79a0c179d94",
   "metadata": {},
   "outputs": [
    {
     "name": "stdout",
     "output_type": "stream",
     "text": [
      "Training Set:\n",
      " id       False\n",
      "tweet    False\n",
      "label    False\n",
      "dtype: bool\n",
      "Validation Set:\n",
      " id       False\n",
      "tweet    False\n",
      "dtype: bool\n",
      "Testing Set:\n",
      " id       False\n",
      "tweet    False\n",
      "label    False\n",
      "dtype: bool\n"
     ]
    }
   ],
   "source": [
    "print(\"Training Set:\\n\", train_df.isnull().any()) #Check for null values in the training set\n",
    "print(\"Validation Set:\\n\", test_df.isnull().any()) #Check for null values in the validation set\n",
    "print(\"Testing Set:\\n\", val_df.isnull().any()) #Check for null values in the testing set"
   ]
  },
  {
   "cell_type": "markdown",
   "id": "6d8ab27f-c1dd-4629-b904-7ec6db98b5f1",
   "metadata": {},
   "source": [
    "### Exploration of data"
   ]
  },
  {
   "cell_type": "code",
   "execution_count": 9,
   "id": "87e1bbc8-ee85-456d-9455-1568bdd890e1",
   "metadata": {},
   "outputs": [
    {
     "name": "stdout",
     "output_type": "stream",
     "text": [
      "The CDC currently reports 99031 deaths. In general the discrepancies in death counts between different sources are small and explicable. The death toll stands at roughly 100000 people today.\n",
      "NEW: There have been numerous #COVID19 outbreaks on recent cruise ship voyages. @CDCDirector has extended the previous No Sail Order to prevent the spread of COVID-19 among crew onboard. https://t.co/OTWJgCN8wQ https://t.co/sbHX4p907F\n"
     ]
    }
   ],
   "source": [
    "print(train_df[\"tweet\"][0]) #Print a simple tweet example\n",
    "print(train_df[\"tweet\"][300]) #Print a more typical tweet example"
   ]
  },
  {
   "cell_type": "markdown",
   "id": "5c9ce51f-ac25-49b7-813e-4a65e85e7e0e",
   "metadata": {},
   "source": [
    "There seems to be tweets with hashtags and links in it, will require a more intensive and thorough cleaning of the tweets"
   ]
  },
  {
   "cell_type": "code",
   "execution_count": 10,
   "id": "4d3085b4-9221-4053-9b03-7bbbdc059611",
   "metadata": {},
   "outputs": [
    {
     "name": "stdout",
     "output_type": "stream",
     "text": [
      "Training Labels:\n",
      " label\n",
      "real    3360\n",
      "fake    3060\n",
      "Name: count, dtype: int64\n",
      "Validation Labels:\n",
      " label\n",
      "real    1120\n",
      "fake    1020\n",
      "Name: count, dtype: int64\n"
     ]
    }
   ],
   "source": [
    "print(\"Training Labels:\\n\", train_df[\"label\"].value_counts()) #See the training labels\n",
    "print(\"Validation Labels:\\n\", val_df[\"label\"].value_counts()) #See the validation labels"
   ]
  },
  {
   "cell_type": "markdown",
   "id": "34048507-8ade-49bf-83c2-0fd94e684db9",
   "metadata": {},
   "source": [
    "Seems like the categorization of tweets are in a string rather than 0s and 1s, will require dummies to convert the \"real\" and \"fake\" into 1s and 0s"
   ]
  },
  {
   "cell_type": "markdown",
   "id": "7f343dc0-69f7-431b-870f-4fc2413b1d98",
   "metadata": {},
   "source": [
    "### Processing of Tweets"
   ]
  },
  {
   "cell_type": "code",
   "execution_count": 11,
   "id": "0518d130-94f7-4b70-a745-8c9ac7d899da",
   "metadata": {},
   "outputs": [],
   "source": [
    "import string\n",
    "import re\n",
    "import html\n",
    "import nltk\n",
    "from nltk.corpus import stopwords \n",
    "\n",
    "puncs = string.punctuation \n",
    "stop_words = stopwords.words(\"english\")"
   ]
  },
  {
   "cell_type": "code",
   "execution_count": 12,
   "id": "64fce381-8d2f-4f80-8275-f28a4557acf1",
   "metadata": {},
   "outputs": [],
   "source": [
    "def clean_tweets(ParseTweet):\n",
    "    for i in range(0, len(ParseTweet)):\n",
    "        # Puts tweet into a variable\n",
    "        tweet = ParseTweet[i]\n",
    "        # Removing leftover HTML elements\n",
    "        tweet = html.unescape(tweet)\n",
    "        # Removal of \"@\"s\n",
    "        tweet = re.sub(r\"@/w+\", \" \", tweet)\n",
    "        # Removal of links\n",
    "        tweet = re.sub(r\"http\\S+\", \" \", tweet)\n",
    "        # Removal of puncs\n",
    "        tweet = \"\".join([punc for punc in tweet if not punc in puncs])\n",
    "        # Lowercase conversion\n",
    "        tweet = tweet.lower()\n",
    "        # Disect tweet into individual wordings\n",
    "        tweet_Word = tweet.split()\n",
    "        # Checking if the word is a stopword\n",
    "        ParseTweet[i] = \"\".join([word + \" \" for word in tweet_Word if not word in stop_words])\n",
    "    return ParseTweet"
   ]
  },
  {
   "cell_type": "code",
   "execution_count": 13,
   "id": "c9984a35-28b1-4959-9657-2e0e2a86feed",
   "metadata": {},
   "outputs": [
    {
     "data": {
      "text/html": [
       "<div>\n",
       "<style scoped>\n",
       "    .dataframe tbody tr th:only-of-type {\n",
       "        vertical-align: middle;\n",
       "    }\n",
       "\n",
       "    .dataframe tbody tr th {\n",
       "        vertical-align: top;\n",
       "    }\n",
       "\n",
       "    .dataframe thead th {\n",
       "        text-align: right;\n",
       "    }\n",
       "</style>\n",
       "<table border=\"1\" class=\"dataframe\">\n",
       "  <thead>\n",
       "    <tr style=\"text-align: right;\">\n",
       "      <th></th>\n",
       "      <th>id</th>\n",
       "      <th>tweet</th>\n",
       "      <th>label</th>\n",
       "      <th>cleanedTweets</th>\n",
       "    </tr>\n",
       "  </thead>\n",
       "  <tbody>\n",
       "    <tr>\n",
       "      <th>0</th>\n",
       "      <td>1</td>\n",
       "      <td>The CDC currently reports 99031 deaths. In gen...</td>\n",
       "      <td>real</td>\n",
       "      <td>cdc currently reports 99031 deaths general dis...</td>\n",
       "    </tr>\n",
       "    <tr>\n",
       "      <th>1</th>\n",
       "      <td>2</td>\n",
       "      <td>States reported 1121 deaths a small rise from ...</td>\n",
       "      <td>real</td>\n",
       "      <td>states reported 1121 deaths small rise last tu...</td>\n",
       "    </tr>\n",
       "    <tr>\n",
       "      <th>2</th>\n",
       "      <td>3</td>\n",
       "      <td>Politically Correct Woman (Almost) Uses Pandem...</td>\n",
       "      <td>fake</td>\n",
       "      <td>politically correct woman almost uses pandemic...</td>\n",
       "    </tr>\n",
       "    <tr>\n",
       "      <th>3</th>\n",
       "      <td>4</td>\n",
       "      <td>#IndiaFightsCorona: We have 1524 #COVID testin...</td>\n",
       "      <td>real</td>\n",
       "      <td>indiafightscorona 1524 covid testing laborator...</td>\n",
       "    </tr>\n",
       "    <tr>\n",
       "      <th>4</th>\n",
       "      <td>5</td>\n",
       "      <td>Populous states can generate large case counts...</td>\n",
       "      <td>real</td>\n",
       "      <td>populous states generate large case counts loo...</td>\n",
       "    </tr>\n",
       "  </tbody>\n",
       "</table>\n",
       "</div>"
      ],
      "text/plain": [
       "   id                                              tweet label  \\\n",
       "0   1  The CDC currently reports 99031 deaths. In gen...  real   \n",
       "1   2  States reported 1121 deaths a small rise from ...  real   \n",
       "2   3  Politically Correct Woman (Almost) Uses Pandem...  fake   \n",
       "3   4  #IndiaFightsCorona: We have 1524 #COVID testin...  real   \n",
       "4   5  Populous states can generate large case counts...  real   \n",
       "\n",
       "                                       cleanedTweets  \n",
       "0  cdc currently reports 99031 deaths general dis...  \n",
       "1  states reported 1121 deaths small rise last tu...  \n",
       "2  politically correct woman almost uses pandemic...  \n",
       "3  indiafightscorona 1524 covid testing laborator...  \n",
       "4  populous states generate large case counts loo...  "
      ]
     },
     "execution_count": 13,
     "metadata": {},
     "output_type": "execute_result"
    }
   ],
   "source": [
    "train_df[\"cleanedTweets\"] = clean_tweets(train_df[\"tweet\"].copy())\n",
    "train_df.head()"
   ]
  },
  {
   "cell_type": "code",
   "execution_count": 14,
   "id": "9fc243b1-86f5-49a6-9e56-b141cb866b33",
   "metadata": {},
   "outputs": [
    {
     "data": {
      "text/html": [
       "<div>\n",
       "<style scoped>\n",
       "    .dataframe tbody tr th:only-of-type {\n",
       "        vertical-align: middle;\n",
       "    }\n",
       "\n",
       "    .dataframe tbody tr th {\n",
       "        vertical-align: top;\n",
       "    }\n",
       "\n",
       "    .dataframe thead th {\n",
       "        text-align: right;\n",
       "    }\n",
       "</style>\n",
       "<table border=\"1\" class=\"dataframe\">\n",
       "  <thead>\n",
       "    <tr style=\"text-align: right;\">\n",
       "      <th></th>\n",
       "      <th>id</th>\n",
       "      <th>tweet</th>\n",
       "      <th>cleanedTweets</th>\n",
       "    </tr>\n",
       "  </thead>\n",
       "  <tbody>\n",
       "    <tr>\n",
       "      <th>0</th>\n",
       "      <td>1</td>\n",
       "      <td>Our daily update is published. States reported...</td>\n",
       "      <td>daily update published states reported 734k te...</td>\n",
       "    </tr>\n",
       "    <tr>\n",
       "      <th>1</th>\n",
       "      <td>2</td>\n",
       "      <td>Alfalfa is the only cure for COVID-19.</td>\n",
       "      <td>alfalfa cure covid19</td>\n",
       "    </tr>\n",
       "    <tr>\n",
       "      <th>2</th>\n",
       "      <td>3</td>\n",
       "      <td>President Trump Asked What He Would Do If He W...</td>\n",
       "      <td>president trump asked would catch coronavirus ...</td>\n",
       "    </tr>\n",
       "    <tr>\n",
       "      <th>3</th>\n",
       "      <td>4</td>\n",
       "      <td>States reported 630 deaths. We are still seein...</td>\n",
       "      <td>states reported 630 deaths still seeing solid ...</td>\n",
       "    </tr>\n",
       "    <tr>\n",
       "      <th>4</th>\n",
       "      <td>5</td>\n",
       "      <td>This is the sixth time a global health emergen...</td>\n",
       "      <td>sixth time global health emergency declared in...</td>\n",
       "    </tr>\n",
       "  </tbody>\n",
       "</table>\n",
       "</div>"
      ],
      "text/plain": [
       "   id                                              tweet  \\\n",
       "0   1  Our daily update is published. States reported...   \n",
       "1   2             Alfalfa is the only cure for COVID-19.   \n",
       "2   3  President Trump Asked What He Would Do If He W...   \n",
       "3   4  States reported 630 deaths. We are still seein...   \n",
       "4   5  This is the sixth time a global health emergen...   \n",
       "\n",
       "                                       cleanedTweets  \n",
       "0  daily update published states reported 734k te...  \n",
       "1                              alfalfa cure covid19   \n",
       "2  president trump asked would catch coronavirus ...  \n",
       "3  states reported 630 deaths still seeing solid ...  \n",
       "4  sixth time global health emergency declared in...  "
      ]
     },
     "execution_count": 14,
     "metadata": {},
     "output_type": "execute_result"
    }
   ],
   "source": [
    "test_df[\"cleanedTweets\"] = clean_tweets(test_df[\"tweet\"].copy())\n",
    "test_df.head()"
   ]
  },
  {
   "cell_type": "code",
   "execution_count": 15,
   "id": "ec98650b-1368-4af5-8d2b-9d4a58bb2227",
   "metadata": {},
   "outputs": [
    {
     "data": {
      "text/html": [
       "<div>\n",
       "<style scoped>\n",
       "    .dataframe tbody tr th:only-of-type {\n",
       "        vertical-align: middle;\n",
       "    }\n",
       "\n",
       "    .dataframe tbody tr th {\n",
       "        vertical-align: top;\n",
       "    }\n",
       "\n",
       "    .dataframe thead th {\n",
       "        text-align: right;\n",
       "    }\n",
       "</style>\n",
       "<table border=\"1\" class=\"dataframe\">\n",
       "  <thead>\n",
       "    <tr style=\"text-align: right;\">\n",
       "      <th></th>\n",
       "      <th>id</th>\n",
       "      <th>tweet</th>\n",
       "      <th>label</th>\n",
       "      <th>cleanedTweets</th>\n",
       "    </tr>\n",
       "  </thead>\n",
       "  <tbody>\n",
       "    <tr>\n",
       "      <th>0</th>\n",
       "      <td>1</td>\n",
       "      <td>Chinese converting to Islam after realising th...</td>\n",
       "      <td>fake</td>\n",
       "      <td>chinese converting islam realising muslim affe...</td>\n",
       "    </tr>\n",
       "    <tr>\n",
       "      <th>1</th>\n",
       "      <td>2</td>\n",
       "      <td>11 out of 13 people (from the Diamond Princess...</td>\n",
       "      <td>fake</td>\n",
       "      <td>11 13 people diamond princess cruise ship inti...</td>\n",
       "    </tr>\n",
       "    <tr>\n",
       "      <th>2</th>\n",
       "      <td>3</td>\n",
       "      <td>COVID-19 Is Caused By A Bacterium, Not Virus A...</td>\n",
       "      <td>fake</td>\n",
       "      <td>covid19 caused bacterium virus treated aspirin</td>\n",
       "    </tr>\n",
       "    <tr>\n",
       "      <th>3</th>\n",
       "      <td>4</td>\n",
       "      <td>Mike Pence in RNC speech praises Donald Trump’...</td>\n",
       "      <td>fake</td>\n",
       "      <td>mike pence rnc speech praises donald trump’s c...</td>\n",
       "    </tr>\n",
       "    <tr>\n",
       "      <th>4</th>\n",
       "      <td>5</td>\n",
       "      <td>6/10 Sky's @EdConwaySky explains the latest #C...</td>\n",
       "      <td>real</td>\n",
       "      <td>610 skys edconwaysky explains latest covid19 d...</td>\n",
       "    </tr>\n",
       "  </tbody>\n",
       "</table>\n",
       "</div>"
      ],
      "text/plain": [
       "   id                                              tweet label  \\\n",
       "0   1  Chinese converting to Islam after realising th...  fake   \n",
       "1   2  11 out of 13 people (from the Diamond Princess...  fake   \n",
       "2   3  COVID-19 Is Caused By A Bacterium, Not Virus A...  fake   \n",
       "3   4  Mike Pence in RNC speech praises Donald Trump’...  fake   \n",
       "4   5  6/10 Sky's @EdConwaySky explains the latest #C...  real   \n",
       "\n",
       "                                       cleanedTweets  \n",
       "0  chinese converting islam realising muslim affe...  \n",
       "1  11 13 people diamond princess cruise ship inti...  \n",
       "2    covid19 caused bacterium virus treated aspirin   \n",
       "3  mike pence rnc speech praises donald trump’s c...  \n",
       "4  610 skys edconwaysky explains latest covid19 d...  "
      ]
     },
     "execution_count": 15,
     "metadata": {},
     "output_type": "execute_result"
    }
   ],
   "source": [
    "val_df[\"cleanedTweets\"] = clean_tweets(val_df[\"tweet\"].copy())\n",
    "val_df.head()"
   ]
  },
  {
   "cell_type": "markdown",
   "id": "0a5d011b-78a6-42ce-9803-cee63389e56a",
   "metadata": {},
   "source": [
    "### Label Encoding"
   ]
  },
  {
   "cell_type": "code",
   "execution_count": 16,
   "id": "fc0bc912-603d-48cb-8a6c-cf3dd4cf25eb",
   "metadata": {},
   "outputs": [
    {
     "name": "stdout",
     "output_type": "stream",
     "text": [
      "      real\n",
      "0        1\n",
      "1        1\n",
      "2        0\n",
      "3        1\n",
      "4        1\n",
      "...    ...\n",
      "6415     0\n",
      "6416     0\n",
      "6417     0\n",
      "6418     0\n",
      "6419     1\n",
      "\n",
      "[6420 rows x 1 columns]\n"
     ]
    }
   ],
   "source": [
    "# Using pd.get_dummies and astype(int) to convert boolean values to integers\n",
    "train_dummy = pd.get_dummies(train_df[\"label\"], drop_first=True).astype(int)\n",
    "print(train_dummy)"
   ]
  },
  {
   "cell_type": "code",
   "execution_count": 17,
   "id": "180e20da-87f3-404a-b83c-b63f6fc1facd",
   "metadata": {},
   "outputs": [
    {
     "data": {
      "text/html": [
       "<div>\n",
       "<style scoped>\n",
       "    .dataframe tbody tr th:only-of-type {\n",
       "        vertical-align: middle;\n",
       "    }\n",
       "\n",
       "    .dataframe tbody tr th {\n",
       "        vertical-align: top;\n",
       "    }\n",
       "\n",
       "    .dataframe thead th {\n",
       "        text-align: right;\n",
       "    }\n",
       "</style>\n",
       "<table border=\"1\" class=\"dataframe\">\n",
       "  <thead>\n",
       "    <tr style=\"text-align: right;\">\n",
       "      <th></th>\n",
       "      <th>id</th>\n",
       "      <th>tweet</th>\n",
       "      <th>label</th>\n",
       "      <th>cleanedTweets</th>\n",
       "      <th>LabelEncoded</th>\n",
       "    </tr>\n",
       "  </thead>\n",
       "  <tbody>\n",
       "    <tr>\n",
       "      <th>0</th>\n",
       "      <td>1</td>\n",
       "      <td>The CDC currently reports 99031 deaths. In gen...</td>\n",
       "      <td>real</td>\n",
       "      <td>cdc currently reports 99031 deaths general dis...</td>\n",
       "      <td>1</td>\n",
       "    </tr>\n",
       "    <tr>\n",
       "      <th>1</th>\n",
       "      <td>2</td>\n",
       "      <td>States reported 1121 deaths a small rise from ...</td>\n",
       "      <td>real</td>\n",
       "      <td>states reported 1121 deaths small rise last tu...</td>\n",
       "      <td>1</td>\n",
       "    </tr>\n",
       "    <tr>\n",
       "      <th>2</th>\n",
       "      <td>3</td>\n",
       "      <td>Politically Correct Woman (Almost) Uses Pandem...</td>\n",
       "      <td>fake</td>\n",
       "      <td>politically correct woman almost uses pandemic...</td>\n",
       "      <td>0</td>\n",
       "    </tr>\n",
       "    <tr>\n",
       "      <th>3</th>\n",
       "      <td>4</td>\n",
       "      <td>#IndiaFightsCorona: We have 1524 #COVID testin...</td>\n",
       "      <td>real</td>\n",
       "      <td>indiafightscorona 1524 covid testing laborator...</td>\n",
       "      <td>1</td>\n",
       "    </tr>\n",
       "    <tr>\n",
       "      <th>4</th>\n",
       "      <td>5</td>\n",
       "      <td>Populous states can generate large case counts...</td>\n",
       "      <td>real</td>\n",
       "      <td>populous states generate large case counts loo...</td>\n",
       "      <td>1</td>\n",
       "    </tr>\n",
       "  </tbody>\n",
       "</table>\n",
       "</div>"
      ],
      "text/plain": [
       "   id                                              tweet label  \\\n",
       "0   1  The CDC currently reports 99031 deaths. In gen...  real   \n",
       "1   2  States reported 1121 deaths a small rise from ...  real   \n",
       "2   3  Politically Correct Woman (Almost) Uses Pandem...  fake   \n",
       "3   4  #IndiaFightsCorona: We have 1524 #COVID testin...  real   \n",
       "4   5  Populous states can generate large case counts...  real   \n",
       "\n",
       "                                       cleanedTweets  LabelEncoded  \n",
       "0  cdc currently reports 99031 deaths general dis...             1  \n",
       "1  states reported 1121 deaths small rise last tu...             1  \n",
       "2  politically correct woman almost uses pandemic...             0  \n",
       "3  indiafightscorona 1524 covid testing laborator...             1  \n",
       "4  populous states generate large case counts loo...             1  "
      ]
     },
     "execution_count": 17,
     "metadata": {},
     "output_type": "execute_result"
    }
   ],
   "source": [
    "train_df[\"LabelEncoded\"] = train_dummy[\"real\"]\n",
    "train_df.head()"
   ]
  },
  {
   "cell_type": "code",
   "execution_count": 18,
   "id": "db305026-359d-4a39-a456-a4083e782e0f",
   "metadata": {},
   "outputs": [
    {
     "data": {
      "text/html": [
       "<div>\n",
       "<style scoped>\n",
       "    .dataframe tbody tr th:only-of-type {\n",
       "        vertical-align: middle;\n",
       "    }\n",
       "\n",
       "    .dataframe tbody tr th {\n",
       "        vertical-align: top;\n",
       "    }\n",
       "\n",
       "    .dataframe thead th {\n",
       "        text-align: right;\n",
       "    }\n",
       "</style>\n",
       "<table border=\"1\" class=\"dataframe\">\n",
       "  <thead>\n",
       "    <tr style=\"text-align: right;\">\n",
       "      <th></th>\n",
       "      <th>id</th>\n",
       "      <th>tweet</th>\n",
       "      <th>label</th>\n",
       "      <th>cleanedTweets</th>\n",
       "      <th>LabelEncoded</th>\n",
       "    </tr>\n",
       "  </thead>\n",
       "  <tbody>\n",
       "    <tr>\n",
       "      <th>0</th>\n",
       "      <td>1</td>\n",
       "      <td>Chinese converting to Islam after realising th...</td>\n",
       "      <td>fake</td>\n",
       "      <td>chinese converting islam realising muslim affe...</td>\n",
       "      <td>0</td>\n",
       "    </tr>\n",
       "    <tr>\n",
       "      <th>1</th>\n",
       "      <td>2</td>\n",
       "      <td>11 out of 13 people (from the Diamond Princess...</td>\n",
       "      <td>fake</td>\n",
       "      <td>11 13 people diamond princess cruise ship inti...</td>\n",
       "      <td>0</td>\n",
       "    </tr>\n",
       "    <tr>\n",
       "      <th>2</th>\n",
       "      <td>3</td>\n",
       "      <td>COVID-19 Is Caused By A Bacterium, Not Virus A...</td>\n",
       "      <td>fake</td>\n",
       "      <td>covid19 caused bacterium virus treated aspirin</td>\n",
       "      <td>0</td>\n",
       "    </tr>\n",
       "    <tr>\n",
       "      <th>3</th>\n",
       "      <td>4</td>\n",
       "      <td>Mike Pence in RNC speech praises Donald Trump’...</td>\n",
       "      <td>fake</td>\n",
       "      <td>mike pence rnc speech praises donald trump’s c...</td>\n",
       "      <td>0</td>\n",
       "    </tr>\n",
       "    <tr>\n",
       "      <th>4</th>\n",
       "      <td>5</td>\n",
       "      <td>6/10 Sky's @EdConwaySky explains the latest #C...</td>\n",
       "      <td>real</td>\n",
       "      <td>610 skys edconwaysky explains latest covid19 d...</td>\n",
       "      <td>1</td>\n",
       "    </tr>\n",
       "  </tbody>\n",
       "</table>\n",
       "</div>"
      ],
      "text/plain": [
       "   id                                              tweet label  \\\n",
       "0   1  Chinese converting to Islam after realising th...  fake   \n",
       "1   2  11 out of 13 people (from the Diamond Princess...  fake   \n",
       "2   3  COVID-19 Is Caused By A Bacterium, Not Virus A...  fake   \n",
       "3   4  Mike Pence in RNC speech praises Donald Trump’...  fake   \n",
       "4   5  6/10 Sky's @EdConwaySky explains the latest #C...  real   \n",
       "\n",
       "                                       cleanedTweets  LabelEncoded  \n",
       "0  chinese converting islam realising muslim affe...             0  \n",
       "1  11 13 people diamond princess cruise ship inti...             0  \n",
       "2    covid19 caused bacterium virus treated aspirin              0  \n",
       "3  mike pence rnc speech praises donald trump’s c...             0  \n",
       "4  610 skys edconwaysky explains latest covid19 d...             1  "
      ]
     },
     "execution_count": 18,
     "metadata": {},
     "output_type": "execute_result"
    }
   ],
   "source": [
    "val_df[\"LabelEncoded\"] = pd.get_dummies(val_df[\"label\"], drop_first=True).astype(int)\n",
    "val_df.head()"
   ]
  },
  {
   "cell_type": "markdown",
   "id": "027708be-49f7-44ca-8536-00ed1d3e0e70",
   "metadata": {},
   "source": [
    "### Tokenizing"
   ]
  },
  {
   "cell_type": "code",
   "execution_count": 19,
   "id": "f7530d2f-78de-4f3a-a396-061d14417210",
   "metadata": {},
   "outputs": [],
   "source": [
    "import gensim\n",
    "from gensim.models import Word2Vec\n",
    "\n",
    "# Tokenize text data\n",
    "tokenized_train = [tweet.split() for tweet in train_df['cleanedTweets']]\n",
    "tokenized_val = [tweet.split() for tweet in val_df['cleanedTweets']]\n",
    "tokenized_test = [tweet.split() for tweet in test_df['cleanedTweets']]\n",
    "\n",
    "# Combine all data for training Word2Vec\n",
    "tokenized_all = tokenized_train + tokenized_val + tokenized_test\n",
    "\n",
    "# Train Word2Vec model\n",
    "word2vec_model = Word2Vec(sentences=tokenized_all, vector_size=120, window=5, min_count=1, workers=4)\n",
    "word2vec_model.save(\"word2vec_model.bin\")"
   ]
  },
  {
   "cell_type": "code",
   "execution_count": 20,
   "id": "d278cb9a-bf6a-4c3e-8f4f-83f849c0038c",
   "metadata": {},
   "outputs": [],
   "source": [
    "# Load Word2Vec model\n",
    "word2vec_model = Word2Vec.load(\"word2vec_model.bin\")\n",
    "\n",
    "# Prepare embedding matrix\n",
    "embedding_dim = 120\n",
    "word_index = {word: index for index, word in enumerate(word2vec_model.wv.index_to_key, start=1)}\n",
    "embedding_matrix = np.zeros((len(word_index) + 1, embedding_dim))\n",
    "for word, i in word_index.items():\n",
    "    if word in word2vec_model.wv:\n",
    "        embedding_matrix[i] = word2vec_model.wv[word]"
   ]
  },
  {
   "cell_type": "code",
   "execution_count": 21,
   "id": "fa395fd6-4ccc-4d82-b1ba-1aae4bedcee2",
   "metadata": {},
   "outputs": [],
   "source": [
    "def text_to_sequence(text, word_index):\n",
    "    return [word_index.get(word, 0) for word in text.split()]\n",
    "\n",
    "X_train_seq = [text_to_sequence(tweet, word_index) for tweet in train_df['cleanedTweets']]\n",
    "X_val_seq = [text_to_sequence(tweet, word_index) for tweet in val_df['cleanedTweets']]\n",
    "X_test_seq = [text_to_sequence(tweet, word_index) for tweet in test_df['cleanedTweets']]"
   ]
  },
  {
   "cell_type": "markdown",
   "id": "fd69dcdb-6313-4f3e-a669-abbe670b5c66",
   "metadata": {},
   "source": [
    "## Baseline Performance (KNN)"
   ]
  },
  {
   "cell_type": "code",
   "execution_count": 22,
   "id": "edc617b4-1f83-41d0-ba74-a1c0ac847cf8",
   "metadata": {},
   "outputs": [],
   "source": [
    "# TF-ID Vectorizer\n",
    "from sklearn.feature_extraction.text import TfidfVectorizer\n",
    "vectorizer = TfidfVectorizer(max_features=20000, stop_words='english')\n",
    "\n",
    "train_df_clean = train_df[\"cleanedTweets\"].copy()\n",
    "test_df_clean = test_df[\"cleanedTweets\"].copy()\n",
    "val_df_clean = val_df[\"cleanedTweets\"].copy()\n",
    "\n",
    "train_val_clean = pd.concat([train_df_clean, val_df_clean], ignore_index=True)\n",
    "\n",
    "# Fit and transform the training and validation data\n",
    "X_train_val = vectorizer.fit_transform(train_val_clean)\n",
    "\n",
    "# Transform the test data\n",
    "X_test = vectorizer.transform(test_df_clean)\n",
    "\n",
    "# Split the combined data back into training and validation sets\n",
    "X_train = X_train_val[:len(train_df)]\n",
    "X_val = X_train_val[len(train_df):]\n",
    "\n",
    "# Use the 'LabelEncoded' column for labels\n",
    "y_train = train_df['LabelEncoded']\n",
    "y_val = val_df['LabelEncoded']"
   ]
  },
  {
   "cell_type": "code",
   "execution_count": 23,
   "id": "645f847d-078b-44d3-8cae-0ecbd7169205",
   "metadata": {},
   "outputs": [
    {
     "name": "stdout",
     "output_type": "stream",
     "text": [
      "Validation Accuracy: 0.9004672897196262\n",
      "Validation Precision: 0.9096657633242999\n",
      "Validation Recall: 0.8991071428571429\n",
      "Validation F1-Score: 0.9043556353839246\n"
     ]
    }
   ],
   "source": [
    "from sklearn.neighbors import KNeighborsClassifier\n",
    "from sklearn.metrics import accuracy_score, precision_score, recall_score, f1_score\n",
    "\n",
    "# Initialize and train the KNN classifier\n",
    "knn = KNeighborsClassifier(n_neighbors=5) \n",
    "knn.fit(X_train, y_train)\n",
    "\n",
    "# Make predictions on the validation set\n",
    "y_val_pred = knn.predict(X_val)\n",
    "\n",
    "# Evaluate the KNN model\n",
    "accuracy = accuracy_score(y_val, y_val_pred)\n",
    "precision = precision_score(y_val, y_val_pred)\n",
    "recall = recall_score(y_val, y_val_pred)\n",
    "f1 = f1_score(y_val, y_val_pred)\n",
    "\n",
    "print(f\"Validation Accuracy: {accuracy}\")\n",
    "print(f\"Validation Precision: {precision}\")\n",
    "print(f\"Validation Recall: {recall}\")\n",
    "print(f\"Validation F1-Score: {f1}\")"
   ]
  },
  {
   "cell_type": "code",
   "execution_count": 24,
   "id": "eb1903f9-291c-41fd-b27e-5a710183ec92",
   "metadata": {},
   "outputs": [
    {
     "data": {
      "text/html": [
       "<div>\n",
       "<style scoped>\n",
       "    .dataframe tbody tr th:only-of-type {\n",
       "        vertical-align: middle;\n",
       "    }\n",
       "\n",
       "    .dataframe tbody tr th {\n",
       "        vertical-align: top;\n",
       "    }\n",
       "\n",
       "    .dataframe thead th {\n",
       "        text-align: right;\n",
       "    }\n",
       "</style>\n",
       "<table border=\"1\" class=\"dataframe\">\n",
       "  <thead>\n",
       "    <tr style=\"text-align: right;\">\n",
       "      <th></th>\n",
       "      <th>id</th>\n",
       "      <th>tweet</th>\n",
       "      <th>cleanedTweets</th>\n",
       "      <th>PredictedLabel</th>\n",
       "    </tr>\n",
       "  </thead>\n",
       "  <tbody>\n",
       "    <tr>\n",
       "      <th>0</th>\n",
       "      <td>1</td>\n",
       "      <td>Our daily update is published. States reported...</td>\n",
       "      <td>daily update published states reported 734k te...</td>\n",
       "      <td>1</td>\n",
       "    </tr>\n",
       "    <tr>\n",
       "      <th>1</th>\n",
       "      <td>2</td>\n",
       "      <td>Alfalfa is the only cure for COVID-19.</td>\n",
       "      <td>alfalfa cure covid19</td>\n",
       "      <td>0</td>\n",
       "    </tr>\n",
       "    <tr>\n",
       "      <th>2</th>\n",
       "      <td>3</td>\n",
       "      <td>President Trump Asked What He Would Do If He W...</td>\n",
       "      <td>president trump asked would catch coronavirus ...</td>\n",
       "      <td>0</td>\n",
       "    </tr>\n",
       "    <tr>\n",
       "      <th>3</th>\n",
       "      <td>4</td>\n",
       "      <td>States reported 630 deaths. We are still seein...</td>\n",
       "      <td>states reported 630 deaths still seeing solid ...</td>\n",
       "      <td>1</td>\n",
       "    </tr>\n",
       "    <tr>\n",
       "      <th>4</th>\n",
       "      <td>5</td>\n",
       "      <td>This is the sixth time a global health emergen...</td>\n",
       "      <td>sixth time global health emergency declared in...</td>\n",
       "      <td>1</td>\n",
       "    </tr>\n",
       "  </tbody>\n",
       "</table>\n",
       "</div>"
      ],
      "text/plain": [
       "   id                                              tweet  \\\n",
       "0   1  Our daily update is published. States reported...   \n",
       "1   2             Alfalfa is the only cure for COVID-19.   \n",
       "2   3  President Trump Asked What He Would Do If He W...   \n",
       "3   4  States reported 630 deaths. We are still seein...   \n",
       "4   5  This is the sixth time a global health emergen...   \n",
       "\n",
       "                                       cleanedTweets  PredictedLabel  \n",
       "0  daily update published states reported 734k te...               1  \n",
       "1                              alfalfa cure covid19                0  \n",
       "2  president trump asked would catch coronavirus ...               0  \n",
       "3  states reported 630 deaths still seeing solid ...               1  \n",
       "4  sixth time global health emergency declared in...               1  "
      ]
     },
     "execution_count": 24,
     "metadata": {},
     "output_type": "execute_result"
    }
   ],
   "source": [
    "# Predict on the test set\n",
    "y_pred_test = knn.predict(X_test)\n",
    "\n",
    "# Output predictions for the test set\n",
    "test_df['PredictedLabel'] = y_pred_test\n",
    "test_df.head()"
   ]
  },
  {
   "cell_type": "markdown",
   "id": "64d0e105-3c49-4baf-9b16-ed25a2a78a3b",
   "metadata": {},
   "source": [
    "## Deep Learning Model (LTSM)"
   ]
  },
  {
   "cell_type": "code",
   "execution_count": 25,
   "id": "5e2ec499-e44b-4af3-8976-9d6afee8009a",
   "metadata": {},
   "outputs": [
    {
     "name": "stdout",
     "output_type": "stream",
     "text": [
      "Epoch 1/5\n"
     ]
    },
    {
     "name": "stderr",
     "output_type": "stream",
     "text": [
      "2024-07-08 13:25:00.522741: I tensorflow/core/common_runtime/executor.cc:1197] [/device:CPU:0] (DEBUG INFO) Executor start aborting (this does not indicate an error and you can ignore this message): INVALID_ARGUMENT: You must feed a value for placeholder tensor 'gradients/split_2_grad/concat/split_2/split_dim' with dtype int32\n",
      "\t [[{{node gradients/split_2_grad/concat/split_2/split_dim}}]]\n",
      "2024-07-08 13:25:00.524054: I tensorflow/core/common_runtime/executor.cc:1197] [/device:CPU:0] (DEBUG INFO) Executor start aborting (this does not indicate an error and you can ignore this message): INVALID_ARGUMENT: You must feed a value for placeholder tensor 'gradients/split_grad/concat/split/split_dim' with dtype int32\n",
      "\t [[{{node gradients/split_grad/concat/split/split_dim}}]]\n",
      "2024-07-08 13:25:00.524542: I tensorflow/core/common_runtime/executor.cc:1197] [/device:CPU:0] (DEBUG INFO) Executor start aborting (this does not indicate an error and you can ignore this message): INVALID_ARGUMENT: You must feed a value for placeholder tensor 'gradients/split_1_grad/concat/split_1/split_dim' with dtype int32\n",
      "\t [[{{node gradients/split_1_grad/concat/split_1/split_dim}}]]\n",
      "2024-07-08 13:25:00.599098: I tensorflow/core/common_runtime/executor.cc:1197] [/device:CPU:0] (DEBUG INFO) Executor start aborting (this does not indicate an error and you can ignore this message): INVALID_ARGUMENT: You must feed a value for placeholder tensor 'gradients/split_2_grad/concat/split_2/split_dim' with dtype int32\n",
      "\t [[{{node gradients/split_2_grad/concat/split_2/split_dim}}]]\n",
      "2024-07-08 13:25:00.599510: I tensorflow/core/common_runtime/executor.cc:1197] [/device:CPU:0] (DEBUG INFO) Executor start aborting (this does not indicate an error and you can ignore this message): INVALID_ARGUMENT: You must feed a value for placeholder tensor 'gradients/split_grad/concat/split/split_dim' with dtype int32\n",
      "\t [[{{node gradients/split_grad/concat/split/split_dim}}]]\n",
      "2024-07-08 13:25:00.599867: I tensorflow/core/common_runtime/executor.cc:1197] [/device:CPU:0] (DEBUG INFO) Executor start aborting (this does not indicate an error and you can ignore this message): INVALID_ARGUMENT: You must feed a value for placeholder tensor 'gradients/split_1_grad/concat/split_1/split_dim' with dtype int32\n",
      "\t [[{{node gradients/split_1_grad/concat/split_1/split_dim}}]]\n",
      "2024-07-08 13:25:00.664917: W tensorflow/tsl/platform/profile_utils/cpu_utils.cc:128] Failed to get CPU frequency: 0 Hz\n",
      "2024-07-08 13:25:00.821768: I tensorflow/core/common_runtime/executor.cc:1197] [/device:CPU:0] (DEBUG INFO) Executor start aborting (this does not indicate an error and you can ignore this message): INVALID_ARGUMENT: You must feed a value for placeholder tensor 'gradients/split_2_grad/concat/split_2/split_dim' with dtype int32\n",
      "\t [[{{node gradients/split_2_grad/concat/split_2/split_dim}}]]\n",
      "2024-07-08 13:25:00.822275: I tensorflow/core/common_runtime/executor.cc:1197] [/device:CPU:0] (DEBUG INFO) Executor start aborting (this does not indicate an error and you can ignore this message): INVALID_ARGUMENT: You must feed a value for placeholder tensor 'gradients/split_grad/concat/split/split_dim' with dtype int32\n",
      "\t [[{{node gradients/split_grad/concat/split/split_dim}}]]\n",
      "2024-07-08 13:25:00.822890: I tensorflow/core/common_runtime/executor.cc:1197] [/device:CPU:0] (DEBUG INFO) Executor start aborting (this does not indicate an error and you can ignore this message): INVALID_ARGUMENT: You must feed a value for placeholder tensor 'gradients/split_1_grad/concat/split_1/split_dim' with dtype int32\n",
      "\t [[{{node gradients/split_1_grad/concat/split_1/split_dim}}]]\n",
      "2024-07-08 13:25:00.899661: I tensorflow/core/common_runtime/executor.cc:1197] [/device:CPU:0] (DEBUG INFO) Executor start aborting (this does not indicate an error and you can ignore this message): INVALID_ARGUMENT: You must feed a value for placeholder tensor 'gradients/split_2_grad/concat/split_2/split_dim' with dtype int32\n",
      "\t [[{{node gradients/split_2_grad/concat/split_2/split_dim}}]]\n",
      "2024-07-08 13:25:00.900219: I tensorflow/core/common_runtime/executor.cc:1197] [/device:CPU:0] (DEBUG INFO) Executor start aborting (this does not indicate an error and you can ignore this message): INVALID_ARGUMENT: You must feed a value for placeholder tensor 'gradients/split_grad/concat/split/split_dim' with dtype int32\n",
      "\t [[{{node gradients/split_grad/concat/split/split_dim}}]]\n",
      "2024-07-08 13:25:00.900705: I tensorflow/core/common_runtime/executor.cc:1197] [/device:CPU:0] (DEBUG INFO) Executor start aborting (this does not indicate an error and you can ignore this message): INVALID_ARGUMENT: You must feed a value for placeholder tensor 'gradients/split_1_grad/concat/split_1/split_dim' with dtype int32\n",
      "\t [[{{node gradients/split_1_grad/concat/split_1/split_dim}}]]\n",
      "2024-07-08 13:25:01.230607: I tensorflow/core/common_runtime/executor.cc:1197] [/device:CPU:0] (DEBUG INFO) Executor start aborting (this does not indicate an error and you can ignore this message): INVALID_ARGUMENT: You must feed a value for placeholder tensor 'gradients/split_2_grad/concat/split_2/split_dim' with dtype int32\n",
      "\t [[{{node gradients/split_2_grad/concat/split_2/split_dim}}]]\n",
      "2024-07-08 13:25:01.231196: I tensorflow/core/common_runtime/executor.cc:1197] [/device:CPU:0] (DEBUG INFO) Executor start aborting (this does not indicate an error and you can ignore this message): INVALID_ARGUMENT: You must feed a value for placeholder tensor 'gradients/split_grad/concat/split/split_dim' with dtype int32\n",
      "\t [[{{node gradients/split_grad/concat/split/split_dim}}]]\n",
      "2024-07-08 13:25:01.231838: I tensorflow/core/common_runtime/executor.cc:1197] [/device:CPU:0] (DEBUG INFO) Executor start aborting (this does not indicate an error and you can ignore this message): INVALID_ARGUMENT: You must feed a value for placeholder tensor 'gradients/split_1_grad/concat/split_1/split_dim' with dtype int32\n",
      "\t [[{{node gradients/split_1_grad/concat/split_1/split_dim}}]]\n",
      "2024-07-08 13:25:01.320164: I tensorflow/core/common_runtime/executor.cc:1197] [/device:CPU:0] (DEBUG INFO) Executor start aborting (this does not indicate an error and you can ignore this message): INVALID_ARGUMENT: You must feed a value for placeholder tensor 'gradients/split_2_grad/concat/split_2/split_dim' with dtype int32\n",
      "\t [[{{node gradients/split_2_grad/concat/split_2/split_dim}}]]\n",
      "2024-07-08 13:25:01.320722: I tensorflow/core/common_runtime/executor.cc:1197] [/device:CPU:0] (DEBUG INFO) Executor start aborting (this does not indicate an error and you can ignore this message): INVALID_ARGUMENT: You must feed a value for placeholder tensor 'gradients/split_grad/concat/split/split_dim' with dtype int32\n",
      "\t [[{{node gradients/split_grad/concat/split/split_dim}}]]\n",
      "2024-07-08 13:25:01.321355: I tensorflow/core/common_runtime/executor.cc:1197] [/device:CPU:0] (DEBUG INFO) Executor start aborting (this does not indicate an error and you can ignore this message): INVALID_ARGUMENT: You must feed a value for placeholder tensor 'gradients/split_1_grad/concat/split_1/split_dim' with dtype int32\n",
      "\t [[{{node gradients/split_1_grad/concat/split_1/split_dim}}]]\n"
     ]
    },
    {
     "name": "stdout",
     "output_type": "stream",
     "text": [
      "201/201 [==============================] - ETA: 0s - loss: 0.4636 - accuracy: 0.7749"
     ]
    },
    {
     "name": "stderr",
     "output_type": "stream",
     "text": [
      "2024-07-08 13:25:24.016325: I tensorflow/core/common_runtime/executor.cc:1197] [/device:CPU:0] (DEBUG INFO) Executor start aborting (this does not indicate an error and you can ignore this message): INVALID_ARGUMENT: You must feed a value for placeholder tensor 'gradients/split_2_grad/concat/split_2/split_dim' with dtype int32\n",
      "\t [[{{node gradients/split_2_grad/concat/split_2/split_dim}}]]\n",
      "2024-07-08 13:25:24.016868: I tensorflow/core/common_runtime/executor.cc:1197] [/device:CPU:0] (DEBUG INFO) Executor start aborting (this does not indicate an error and you can ignore this message): INVALID_ARGUMENT: You must feed a value for placeholder tensor 'gradients/split_grad/concat/split/split_dim' with dtype int32\n",
      "\t [[{{node gradients/split_grad/concat/split/split_dim}}]]\n",
      "2024-07-08 13:25:24.017337: I tensorflow/core/common_runtime/executor.cc:1197] [/device:CPU:0] (DEBUG INFO) Executor start aborting (this does not indicate an error and you can ignore this message): INVALID_ARGUMENT: You must feed a value for placeholder tensor 'gradients/split_1_grad/concat/split_1/split_dim' with dtype int32\n",
      "\t [[{{node gradients/split_1_grad/concat/split_1/split_dim}}]]\n",
      "2024-07-08 13:25:24.114950: I tensorflow/core/common_runtime/executor.cc:1197] [/device:CPU:0] (DEBUG INFO) Executor start aborting (this does not indicate an error and you can ignore this message): INVALID_ARGUMENT: You must feed a value for placeholder tensor 'gradients/split_2_grad/concat/split_2/split_dim' with dtype int32\n",
      "\t [[{{node gradients/split_2_grad/concat/split_2/split_dim}}]]\n",
      "2024-07-08 13:25:24.115412: I tensorflow/core/common_runtime/executor.cc:1197] [/device:CPU:0] (DEBUG INFO) Executor start aborting (this does not indicate an error and you can ignore this message): INVALID_ARGUMENT: You must feed a value for placeholder tensor 'gradients/split_grad/concat/split/split_dim' with dtype int32\n",
      "\t [[{{node gradients/split_grad/concat/split/split_dim}}]]\n",
      "2024-07-08 13:25:24.115828: I tensorflow/core/common_runtime/executor.cc:1197] [/device:CPU:0] (DEBUG INFO) Executor start aborting (this does not indicate an error and you can ignore this message): INVALID_ARGUMENT: You must feed a value for placeholder tensor 'gradients/split_1_grad/concat/split_1/split_dim' with dtype int32\n",
      "\t [[{{node gradients/split_1_grad/concat/split_1/split_dim}}]]\n"
     ]
    },
    {
     "name": "stdout",
     "output_type": "stream",
     "text": [
      "201/201 [==============================] - 26s 122ms/step - loss: 0.4636 - accuracy: 0.7749 - val_loss: 0.4148 - val_accuracy: 0.8136\n",
      "Epoch 2/5\n",
      "201/201 [==============================] - 24s 118ms/step - loss: 0.4096 - accuracy: 0.8178 - val_loss: 0.4158 - val_accuracy: 0.8014\n",
      "Epoch 3/5\n",
      "201/201 [==============================] - 24s 117ms/step - loss: 0.4009 - accuracy: 0.8206 - val_loss: 0.4074 - val_accuracy: 0.8164\n",
      "Epoch 4/5\n",
      "201/201 [==============================] - 24s 119ms/step - loss: 0.3724 - accuracy: 0.8346 - val_loss: 0.3816 - val_accuracy: 0.8201\n",
      "Epoch 5/5\n",
      "201/201 [==============================] - 24s 119ms/step - loss: 0.3553 - accuracy: 0.8419 - val_loss: 0.3486 - val_accuracy: 0.8379\n"
     ]
    },
    {
     "name": "stderr",
     "output_type": "stream",
     "text": [
      "2024-07-08 13:27:01.793891: I tensorflow/core/common_runtime/executor.cc:1197] [/device:CPU:0] (DEBUG INFO) Executor start aborting (this does not indicate an error and you can ignore this message): INVALID_ARGUMENT: You must feed a value for placeholder tensor 'gradients/split_2_grad/concat/split_2/split_dim' with dtype int32\n",
      "\t [[{{node gradients/split_2_grad/concat/split_2/split_dim}}]]\n",
      "2024-07-08 13:27:01.794569: I tensorflow/core/common_runtime/executor.cc:1197] [/device:CPU:0] (DEBUG INFO) Executor start aborting (this does not indicate an error and you can ignore this message): INVALID_ARGUMENT: You must feed a value for placeholder tensor 'gradients/split_grad/concat/split/split_dim' with dtype int32\n",
      "\t [[{{node gradients/split_grad/concat/split/split_dim}}]]\n",
      "2024-07-08 13:27:01.795166: I tensorflow/core/common_runtime/executor.cc:1197] [/device:CPU:0] (DEBUG INFO) Executor start aborting (this does not indicate an error and you can ignore this message): INVALID_ARGUMENT: You must feed a value for placeholder tensor 'gradients/split_1_grad/concat/split_1/split_dim' with dtype int32\n",
      "\t [[{{node gradients/split_1_grad/concat/split_1/split_dim}}]]\n",
      "2024-07-08 13:27:01.869004: I tensorflow/core/common_runtime/executor.cc:1197] [/device:CPU:0] (DEBUG INFO) Executor start aborting (this does not indicate an error and you can ignore this message): INVALID_ARGUMENT: You must feed a value for placeholder tensor 'gradients/split_2_grad/concat/split_2/split_dim' with dtype int32\n",
      "\t [[{{node gradients/split_2_grad/concat/split_2/split_dim}}]]\n",
      "2024-07-08 13:27:01.869513: I tensorflow/core/common_runtime/executor.cc:1197] [/device:CPU:0] (DEBUG INFO) Executor start aborting (this does not indicate an error and you can ignore this message): INVALID_ARGUMENT: You must feed a value for placeholder tensor 'gradients/split_grad/concat/split/split_dim' with dtype int32\n",
      "\t [[{{node gradients/split_grad/concat/split/split_dim}}]]\n",
      "2024-07-08 13:27:01.869979: I tensorflow/core/common_runtime/executor.cc:1197] [/device:CPU:0] (DEBUG INFO) Executor start aborting (this does not indicate an error and you can ignore this message): INVALID_ARGUMENT: You must feed a value for placeholder tensor 'gradients/split_1_grad/concat/split_1/split_dim' with dtype int32\n",
      "\t [[{{node gradients/split_1_grad/concat/split_1/split_dim}}]]\n"
     ]
    },
    {
     "name": "stdout",
     "output_type": "stream",
     "text": [
      "67/67 [==============================] - 3s 34ms/step\n"
     ]
    }
   ],
   "source": [
    "# Pad sequences\n",
    "max_sequence_length = 120\n",
    "X_train_pad = pad_sequences(X_train_seq, maxlen=max_sequence_length)\n",
    "X_val_pad = pad_sequences(X_val_seq, maxlen=max_sequence_length)\n",
    "X_test_pad = pad_sequences(X_test_seq, maxlen=max_sequence_length)\n",
    "\n",
    "y_train_pad = train_df['LabelEncoded']\n",
    "y_val_pad = val_df['LabelEncoded']\n",
    "\n",
    "# Build LSTM model\n",
    "model_lstm = Sequential()\n",
    "model_lstm.add(Embedding(input_dim=len(word_index) + 1,\n",
    "                         output_dim=word2vec_model.vector_size,\n",
    "                         weights=[embedding_matrix],\n",
    "                         input_length=max_sequence_length,\n",
    "                         trainable=False))\n",
    "model_lstm.add(LSTM(128, return_sequences=True))\n",
    "model_lstm.add(Dropout(0.5))\n",
    "model_lstm.add(LSTM(64))\n",
    "model_lstm.add(Dense(1, activation='sigmoid'))\n",
    "\n",
    "model_lstm.compile(optimizer='adam', loss='binary_crossentropy', metrics=['accuracy'])\n",
    "\n",
    "# Train LSTM model\n",
    "history = model_lstm.fit(X_train_pad, y_train_pad, epochs=5, batch_size=32, validation_data=(X_val_pad, y_val_pad))\n",
    "\n",
    "# Evaluate on test data\n",
    "test_predictions = model_lstm.predict(X_test_pad)"
   ]
  },
  {
   "cell_type": "code",
   "execution_count": 26,
   "id": "92202c43-6a64-4781-8378-30773d65e6b6",
   "metadata": {},
   "outputs": [
    {
     "name": "stdout",
     "output_type": "stream",
     "text": [
      "67/67 [==============================] - 2s 34ms/step\n",
      "LSTM Validation - Accuracy: 0.8378504672897197, Precision: 0.8756073858114675, Recall: 0.8044642857142857, F1-Score: 0.8385295486272686\n"
     ]
    }
   ],
   "source": [
    "# Predict and evaluate\n",
    "y_pred_val_lstm = (model_lstm.predict(X_val_pad) > 0.5).astype(\"int32\")\n",
    "accuracy_val_lstm = accuracy_score(y_val_pad, y_pred_val_lstm)\n",
    "precision_val_lstm = precision_score(y_val_pad, y_pred_val_lstm)\n",
    "recall_val_lstm = recall_score(y_val_pad, y_pred_val_lstm)\n",
    "f1_val_lstm = f1_score(y_val_pad, y_pred_val_lstm)\n",
    "\n",
    "print(f'LSTM Validation - Accuracy: {accuracy_val_lstm}, Precision: {precision_val_lstm}, Recall: {recall_val_lstm}, F1-Score: {f1_val_lstm}')"
   ]
  },
  {
   "cell_type": "markdown",
   "id": "2ea02e07-2489-427e-84b7-c7e83f8218d2",
   "metadata": {},
   "source": [
    "## Comparison of both Models"
   ]
  },
  {
   "cell_type": "markdown",
   "id": "90df29b7-58ca-41c0-9042-f87013f2d0ed",
   "metadata": {},
   "source": [
    "As seen from above, there's a total of 2 models, KNN and LSTM with Word2Vec embeddings.\n",
    "\n",
    "In terms of the KNN Model, there was utilization of the TF-IDF vectorization to conver the cleaned text data into numerical features. Through the use of the TF-IDF vectorizer, it captures the importance of each word in the document whilst taking into account the frequency. The KNN model was then intialize and trained with 5 neighbors and evaluated the model on the validation set.\n",
    "\n",
    "Whilst the LSTM with Word2Vec embeddings has an input of sequences of word indices and the embedding layer will be initialized with pre-trained Word2Vec embeddings. The LSTM layer will processes those sequences of word embeddings and outputs binary classification. During the training process, the algorithm will convert text data into sequences of word indices and pads those sequences to ensure uniform length and the LSTM model will then train on those padded sequences."
   ]
  },
  {
   "cell_type": "code",
   "execution_count": 27,
   "id": "5e034b82-5b3f-4068-83af-d152c11eeccf",
   "metadata": {},
   "outputs": [
    {
     "name": "stdout",
     "output_type": "stream",
     "text": [
      "      Metric K-Nearest Neighbors (KNN) Long Short-Term Memory (LSTM)\n",
      "0   Accuracy         0.9005 (Accuracy)             0.8379 (Accuracy)\n",
      "1  Precision        0.9097 (Precision)            0.8756 (Precision)\n",
      "2     Recall           0.8991 (Recall)               0.8045 (Recall)\n",
      "3   F1-Score         0.9044 (F1-Score)             0.8385 (F1-Score)\n"
     ]
    }
   ],
   "source": [
    "# KNN model results\n",
    "knn_results = {\n",
    "    'Metric': ['Accuracy', 'Precision', 'Recall', 'F1-Score'],\n",
    "    'K-Nearest Neighbors (KNN)': [\n",
    "        f'{accuracy:.4f} (Accuracy)', \n",
    "        f'{precision:.4f} (Precision)', \n",
    "        f'{recall:.4f} (Recall)', \n",
    "        f'{f1:.4f} (F1-Score)'\n",
    "    ]\n",
    "}\n",
    "\n",
    "# LSTM model results\n",
    "lstm_results = {\n",
    "    'Metric': ['Accuracy', 'Precision', 'Recall', 'F1-Score'],\n",
    "    'Long Short-Term Memory (LSTM)': [\n",
    "        f'{accuracy_val_lstm:.4f} (Accuracy)', \n",
    "        f'{precision_val_lstm:.4f} (Precision)', \n",
    "        f'{recall_val_lstm:.4f} (Recall)', \n",
    "        f'{f1_val_lstm:.4f} (F1-Score)'\n",
    "    ]\n",
    "}\n",
    "\n",
    "# Convert the results to DataFrames\n",
    "knn_df = pd.DataFrame(knn_results)\n",
    "lstm_df = pd.DataFrame(lstm_results)\n",
    "\n",
    "# Merge the DataFrames on the 'Metric' column\n",
    "comparison_df = pd.merge(knn_df, lstm_df, on='Metric')\n",
    "\n",
    "# Display the comparison table\n",
    "print(comparison_df)"
   ]
  },
  {
   "cell_type": "markdown",
   "id": "52775536-5826-4d0b-bf0c-55cec99b8cd4",
   "metadata": {},
   "source": [
    "As seen from the comparison table above, the KNN model achieved a higher validation accuracy compared to the LSTM model. Which indicates that for this particular dataset, the traditional KNN classfier performed slightly better than the LSTM model. \n",
    "The KNN model also had a higher recall compared to the LSTM model which translates to the fact that the KNN model was better at correctly identifying fake tweets. The KNN also achieved a slightly higher precision score as compared to the LSTM model which tells us that the KNN model is slightly better at predicting the outcome of a fake tweet.\n",
    "\n",
    "This surprising outcome could be due to several factors such as:\n",
    "1. Data Characteristics\n",
    "   - The TF-IDF features may be more suitable for a distance-based classifier like KNN.\n",
    "2. Complexity of the Model\n",
    "   - Since the LSTM model is more complex, it probably might need more data or fine-tuning to outperform the KNN model.\n",
    "3. Validation, Training and Testing Split of Data\n",
    "   - The split of the data into training, validation and testing sets can affect the model performance.\n",
    "  \n",
    "Hence, I will be performing some improvements on the LSTM model in the next step."
   ]
  },
  {
   "cell_type": "code",
   "execution_count": 28,
   "id": "0bade62d-e3c4-4b65-99ab-83d34676aee5",
   "metadata": {},
   "outputs": [
    {
     "name": "stdout",
     "output_type": "stream",
     "text": [
      "Epoch 1/10\n"
     ]
    },
    {
     "name": "stderr",
     "output_type": "stream",
     "text": [
      "2024-07-08 13:27:06.720090: I tensorflow/core/common_runtime/executor.cc:1197] [/device:CPU:0] (DEBUG INFO) Executor start aborting (this does not indicate an error and you can ignore this message): INVALID_ARGUMENT: You must feed a value for placeholder tensor 'gradients/split_2_grad/concat/split_2/split_dim' with dtype int32\n",
      "\t [[{{node gradients/split_2_grad/concat/split_2/split_dim}}]]\n",
      "2024-07-08 13:27:06.720562: I tensorflow/core/common_runtime/executor.cc:1197] [/device:CPU:0] (DEBUG INFO) Executor start aborting (this does not indicate an error and you can ignore this message): INVALID_ARGUMENT: You must feed a value for placeholder tensor 'gradients/split_grad/concat/split/split_dim' with dtype int32\n",
      "\t [[{{node gradients/split_grad/concat/split/split_dim}}]]\n",
      "2024-07-08 13:27:06.721077: I tensorflow/core/common_runtime/executor.cc:1197] [/device:CPU:0] (DEBUG INFO) Executor start aborting (this does not indicate an error and you can ignore this message): INVALID_ARGUMENT: You must feed a value for placeholder tensor 'gradients/split_1_grad/concat/split_1/split_dim' with dtype int32\n",
      "\t [[{{node gradients/split_1_grad/concat/split_1/split_dim}}]]\n",
      "2024-07-08 13:27:06.777953: I tensorflow/core/common_runtime/executor.cc:1197] [/device:CPU:0] (DEBUG INFO) Executor start aborting (this does not indicate an error and you can ignore this message): INVALID_ARGUMENT: You must feed a value for placeholder tensor 'gradients/ReverseV2_grad/ReverseV2/ReverseV2/axis' with dtype int32 and shape [1]\n",
      "\t [[{{node gradients/ReverseV2_grad/ReverseV2/ReverseV2/axis}}]]\n",
      "2024-07-08 13:27:06.794983: I tensorflow/core/common_runtime/executor.cc:1197] [/device:CPU:0] (DEBUG INFO) Executor start aborting (this does not indicate an error and you can ignore this message): INVALID_ARGUMENT: You must feed a value for placeholder tensor 'gradients/split_2_grad/concat/split_2/split_dim' with dtype int32\n",
      "\t [[{{node gradients/split_2_grad/concat/split_2/split_dim}}]]\n",
      "2024-07-08 13:27:06.795383: I tensorflow/core/common_runtime/executor.cc:1197] [/device:CPU:0] (DEBUG INFO) Executor start aborting (this does not indicate an error and you can ignore this message): INVALID_ARGUMENT: You must feed a value for placeholder tensor 'gradients/split_grad/concat/split/split_dim' with dtype int32\n",
      "\t [[{{node gradients/split_grad/concat/split/split_dim}}]]\n",
      "2024-07-08 13:27:06.795744: I tensorflow/core/common_runtime/executor.cc:1197] [/device:CPU:0] (DEBUG INFO) Executor start aborting (this does not indicate an error and you can ignore this message): INVALID_ARGUMENT: You must feed a value for placeholder tensor 'gradients/split_1_grad/concat/split_1/split_dim' with dtype int32\n",
      "\t [[{{node gradients/split_1_grad/concat/split_1/split_dim}}]]\n",
      "2024-07-08 13:27:06.865494: I tensorflow/core/common_runtime/executor.cc:1197] [/device:CPU:0] (DEBUG INFO) Executor start aborting (this does not indicate an error and you can ignore this message): INVALID_ARGUMENT: You must feed a value for placeholder tensor 'gradients/split_2_grad/concat/split_2/split_dim' with dtype int32\n",
      "\t [[{{node gradients/split_2_grad/concat/split_2/split_dim}}]]\n",
      "2024-07-08 13:27:06.865913: I tensorflow/core/common_runtime/executor.cc:1197] [/device:CPU:0] (DEBUG INFO) Executor start aborting (this does not indicate an error and you can ignore this message): INVALID_ARGUMENT: You must feed a value for placeholder tensor 'gradients/split_grad/concat/split/split_dim' with dtype int32\n",
      "\t [[{{node gradients/split_grad/concat/split/split_dim}}]]\n",
      "2024-07-08 13:27:06.866286: I tensorflow/core/common_runtime/executor.cc:1197] [/device:CPU:0] (DEBUG INFO) Executor start aborting (this does not indicate an error and you can ignore this message): INVALID_ARGUMENT: You must feed a value for placeholder tensor 'gradients/split_1_grad/concat/split_1/split_dim' with dtype int32\n",
      "\t [[{{node gradients/split_1_grad/concat/split_1/split_dim}}]]\n",
      "2024-07-08 13:27:07.003464: I tensorflow/core/common_runtime/executor.cc:1197] [/device:CPU:0] (DEBUG INFO) Executor start aborting (this does not indicate an error and you can ignore this message): INVALID_ARGUMENT: You must feed a value for placeholder tensor 'gradients/split_2_grad/concat/split_2/split_dim' with dtype int32\n",
      "\t [[{{node gradients/split_2_grad/concat/split_2/split_dim}}]]\n",
      "2024-07-08 13:27:07.004045: I tensorflow/core/common_runtime/executor.cc:1197] [/device:CPU:0] (DEBUG INFO) Executor start aborting (this does not indicate an error and you can ignore this message): INVALID_ARGUMENT: You must feed a value for placeholder tensor 'gradients/split_grad/concat/split/split_dim' with dtype int32\n",
      "\t [[{{node gradients/split_grad/concat/split/split_dim}}]]\n",
      "2024-07-08 13:27:07.004578: I tensorflow/core/common_runtime/executor.cc:1197] [/device:CPU:0] (DEBUG INFO) Executor start aborting (this does not indicate an error and you can ignore this message): INVALID_ARGUMENT: You must feed a value for placeholder tensor 'gradients/split_1_grad/concat/split_1/split_dim' with dtype int32\n",
      "\t [[{{node gradients/split_1_grad/concat/split_1/split_dim}}]]\n",
      "2024-07-08 13:27:07.069405: I tensorflow/core/common_runtime/executor.cc:1197] [/device:CPU:0] (DEBUG INFO) Executor start aborting (this does not indicate an error and you can ignore this message): INVALID_ARGUMENT: You must feed a value for placeholder tensor 'gradients/ReverseV2_grad/ReverseV2/ReverseV2/axis' with dtype int32 and shape [1]\n",
      "\t [[{{node gradients/ReverseV2_grad/ReverseV2/ReverseV2/axis}}]]\n",
      "2024-07-08 13:27:07.093484: I tensorflow/core/common_runtime/executor.cc:1197] [/device:CPU:0] (DEBUG INFO) Executor start aborting (this does not indicate an error and you can ignore this message): INVALID_ARGUMENT: You must feed a value for placeholder tensor 'gradients/split_2_grad/concat/split_2/split_dim' with dtype int32\n",
      "\t [[{{node gradients/split_2_grad/concat/split_2/split_dim}}]]\n",
      "2024-07-08 13:27:07.094032: I tensorflow/core/common_runtime/executor.cc:1197] [/device:CPU:0] (DEBUG INFO) Executor start aborting (this does not indicate an error and you can ignore this message): INVALID_ARGUMENT: You must feed a value for placeholder tensor 'gradients/split_grad/concat/split/split_dim' with dtype int32\n",
      "\t [[{{node gradients/split_grad/concat/split/split_dim}}]]\n",
      "2024-07-08 13:27:07.094548: I tensorflow/core/common_runtime/executor.cc:1197] [/device:CPU:0] (DEBUG INFO) Executor start aborting (this does not indicate an error and you can ignore this message): INVALID_ARGUMENT: You must feed a value for placeholder tensor 'gradients/split_1_grad/concat/split_1/split_dim' with dtype int32\n",
      "\t [[{{node gradients/split_1_grad/concat/split_1/split_dim}}]]\n",
      "2024-07-08 13:27:07.172877: I tensorflow/core/common_runtime/executor.cc:1197] [/device:CPU:0] (DEBUG INFO) Executor start aborting (this does not indicate an error and you can ignore this message): INVALID_ARGUMENT: You must feed a value for placeholder tensor 'gradients/split_2_grad/concat/split_2/split_dim' with dtype int32\n",
      "\t [[{{node gradients/split_2_grad/concat/split_2/split_dim}}]]\n",
      "2024-07-08 13:27:07.173454: I tensorflow/core/common_runtime/executor.cc:1197] [/device:CPU:0] (DEBUG INFO) Executor start aborting (this does not indicate an error and you can ignore this message): INVALID_ARGUMENT: You must feed a value for placeholder tensor 'gradients/split_grad/concat/split/split_dim' with dtype int32\n",
      "\t [[{{node gradients/split_grad/concat/split/split_dim}}]]\n",
      "2024-07-08 13:27:07.174006: I tensorflow/core/common_runtime/executor.cc:1197] [/device:CPU:0] (DEBUG INFO) Executor start aborting (this does not indicate an error and you can ignore this message): INVALID_ARGUMENT: You must feed a value for placeholder tensor 'gradients/split_1_grad/concat/split_1/split_dim' with dtype int32\n",
      "\t [[{{node gradients/split_1_grad/concat/split_1/split_dim}}]]\n",
      "2024-07-08 13:27:07.664418: I tensorflow/core/common_runtime/executor.cc:1197] [/device:CPU:0] (DEBUG INFO) Executor start aborting (this does not indicate an error and you can ignore this message): INVALID_ARGUMENT: You must feed a value for placeholder tensor 'gradients/ReverseV2_grad/ReverseV2/ReverseV2/axis' with dtype int32 and shape [1]\n",
      "\t [[{{node gradients/ReverseV2_grad/ReverseV2/ReverseV2/axis}}]]\n",
      "2024-07-08 13:27:07.806928: I tensorflow/core/common_runtime/executor.cc:1197] [/device:CPU:0] (DEBUG INFO) Executor start aborting (this does not indicate an error and you can ignore this message): INVALID_ARGUMENT: You must feed a value for placeholder tensor 'gradients/split_2_grad/concat/split_2/split_dim' with dtype int32\n",
      "\t [[{{node gradients/split_2_grad/concat/split_2/split_dim}}]]\n",
      "2024-07-08 13:27:07.807597: I tensorflow/core/common_runtime/executor.cc:1197] [/device:CPU:0] (DEBUG INFO) Executor start aborting (this does not indicate an error and you can ignore this message): INVALID_ARGUMENT: You must feed a value for placeholder tensor 'gradients/split_grad/concat/split/split_dim' with dtype int32\n",
      "\t [[{{node gradients/split_grad/concat/split/split_dim}}]]\n",
      "2024-07-08 13:27:07.808316: I tensorflow/core/common_runtime/executor.cc:1197] [/device:CPU:0] (DEBUG INFO) Executor start aborting (this does not indicate an error and you can ignore this message): INVALID_ARGUMENT: You must feed a value for placeholder tensor 'gradients/split_1_grad/concat/split_1/split_dim' with dtype int32\n",
      "\t [[{{node gradients/split_1_grad/concat/split_1/split_dim}}]]\n",
      "2024-07-08 13:27:07.873134: I tensorflow/core/common_runtime/executor.cc:1197] [/device:CPU:0] (DEBUG INFO) Executor start aborting (this does not indicate an error and you can ignore this message): INVALID_ARGUMENT: You must feed a value for placeholder tensor 'gradients/ReverseV2_grad/ReverseV2/ReverseV2/axis' with dtype int32 and shape [1]\n",
      "\t [[{{node gradients/ReverseV2_grad/ReverseV2/ReverseV2/axis}}]]\n",
      "2024-07-08 13:27:07.897312: I tensorflow/core/common_runtime/executor.cc:1197] [/device:CPU:0] (DEBUG INFO) Executor start aborting (this does not indicate an error and you can ignore this message): INVALID_ARGUMENT: You must feed a value for placeholder tensor 'gradients/split_2_grad/concat/split_2/split_dim' with dtype int32\n",
      "\t [[{{node gradients/split_2_grad/concat/split_2/split_dim}}]]\n",
      "2024-07-08 13:27:07.898186: I tensorflow/core/common_runtime/executor.cc:1197] [/device:CPU:0] (DEBUG INFO) Executor start aborting (this does not indicate an error and you can ignore this message): INVALID_ARGUMENT: You must feed a value for placeholder tensor 'gradients/split_grad/concat/split/split_dim' with dtype int32\n",
      "\t [[{{node gradients/split_grad/concat/split/split_dim}}]]\n",
      "2024-07-08 13:27:07.898762: I tensorflow/core/common_runtime/executor.cc:1197] [/device:CPU:0] (DEBUG INFO) Executor start aborting (this does not indicate an error and you can ignore this message): INVALID_ARGUMENT: You must feed a value for placeholder tensor 'gradients/split_1_grad/concat/split_1/split_dim' with dtype int32\n",
      "\t [[{{node gradients/split_1_grad/concat/split_1/split_dim}}]]\n",
      "2024-07-08 13:27:07.976271: I tensorflow/core/common_runtime/executor.cc:1197] [/device:CPU:0] (DEBUG INFO) Executor start aborting (this does not indicate an error and you can ignore this message): INVALID_ARGUMENT: You must feed a value for placeholder tensor 'gradients/split_2_grad/concat/split_2/split_dim' with dtype int32\n",
      "\t [[{{node gradients/split_2_grad/concat/split_2/split_dim}}]]\n",
      "2024-07-08 13:27:07.976840: I tensorflow/core/common_runtime/executor.cc:1197] [/device:CPU:0] (DEBUG INFO) Executor start aborting (this does not indicate an error and you can ignore this message): INVALID_ARGUMENT: You must feed a value for placeholder tensor 'gradients/split_grad/concat/split/split_dim' with dtype int32\n",
      "\t [[{{node gradients/split_grad/concat/split/split_dim}}]]\n",
      "2024-07-08 13:27:07.977401: I tensorflow/core/common_runtime/executor.cc:1197] [/device:CPU:0] (DEBUG INFO) Executor start aborting (this does not indicate an error and you can ignore this message): INVALID_ARGUMENT: You must feed a value for placeholder tensor 'gradients/split_1_grad/concat/split_1/split_dim' with dtype int32\n",
      "\t [[{{node gradients/split_1_grad/concat/split_1/split_dim}}]]\n",
      "2024-07-08 13:27:08.259439: I tensorflow/core/common_runtime/executor.cc:1197] [/device:CPU:0] (DEBUG INFO) Executor start aborting (this does not indicate an error and you can ignore this message): INVALID_ARGUMENT: You must feed a value for placeholder tensor 'gradients/ReverseV2_grad/ReverseV2/ReverseV2/axis' with dtype int32 and shape [1]\n",
      "\t [[{{node gradients/ReverseV2_grad/ReverseV2/ReverseV2/axis}}]]\n"
     ]
    },
    {
     "name": "stdout",
     "output_type": "stream",
     "text": [
      "201/201 [==============================] - ETA: 0s - loss: 0.3891 - accuracy: 0.8218"
     ]
    },
    {
     "name": "stderr",
     "output_type": "stream",
     "text": [
      "2024-07-08 13:27:40.489813: I tensorflow/core/common_runtime/executor.cc:1197] [/device:CPU:0] (DEBUG INFO) Executor start aborting (this does not indicate an error and you can ignore this message): INVALID_ARGUMENT: You must feed a value for placeholder tensor 'gradients/split_2_grad/concat/split_2/split_dim' with dtype int32\n",
      "\t [[{{node gradients/split_2_grad/concat/split_2/split_dim}}]]\n",
      "2024-07-08 13:27:40.490418: I tensorflow/core/common_runtime/executor.cc:1197] [/device:CPU:0] (DEBUG INFO) Executor start aborting (this does not indicate an error and you can ignore this message): INVALID_ARGUMENT: You must feed a value for placeholder tensor 'gradients/split_grad/concat/split/split_dim' with dtype int32\n",
      "\t [[{{node gradients/split_grad/concat/split/split_dim}}]]\n",
      "2024-07-08 13:27:40.491238: I tensorflow/core/common_runtime/executor.cc:1197] [/device:CPU:0] (DEBUG INFO) Executor start aborting (this does not indicate an error and you can ignore this message): INVALID_ARGUMENT: You must feed a value for placeholder tensor 'gradients/split_1_grad/concat/split_1/split_dim' with dtype int32\n",
      "\t [[{{node gradients/split_1_grad/concat/split_1/split_dim}}]]\n",
      "2024-07-08 13:27:40.551205: I tensorflow/core/common_runtime/executor.cc:1197] [/device:CPU:0] (DEBUG INFO) Executor start aborting (this does not indicate an error and you can ignore this message): INVALID_ARGUMENT: You must feed a value for placeholder tensor 'gradients/ReverseV2_grad/ReverseV2/ReverseV2/axis' with dtype int32 and shape [1]\n",
      "\t [[{{node gradients/ReverseV2_grad/ReverseV2/ReverseV2/axis}}]]\n",
      "2024-07-08 13:27:40.573372: I tensorflow/core/common_runtime/executor.cc:1197] [/device:CPU:0] (DEBUG INFO) Executor start aborting (this does not indicate an error and you can ignore this message): INVALID_ARGUMENT: You must feed a value for placeholder tensor 'gradients/split_2_grad/concat/split_2/split_dim' with dtype int32\n",
      "\t [[{{node gradients/split_2_grad/concat/split_2/split_dim}}]]\n",
      "2024-07-08 13:27:40.573930: I tensorflow/core/common_runtime/executor.cc:1197] [/device:CPU:0] (DEBUG INFO) Executor start aborting (this does not indicate an error and you can ignore this message): INVALID_ARGUMENT: You must feed a value for placeholder tensor 'gradients/split_grad/concat/split/split_dim' with dtype int32\n",
      "\t [[{{node gradients/split_grad/concat/split/split_dim}}]]\n",
      "2024-07-08 13:27:40.574455: I tensorflow/core/common_runtime/executor.cc:1197] [/device:CPU:0] (DEBUG INFO) Executor start aborting (this does not indicate an error and you can ignore this message): INVALID_ARGUMENT: You must feed a value for placeholder tensor 'gradients/split_1_grad/concat/split_1/split_dim' with dtype int32\n",
      "\t [[{{node gradients/split_1_grad/concat/split_1/split_dim}}]]\n",
      "2024-07-08 13:27:40.659268: I tensorflow/core/common_runtime/executor.cc:1197] [/device:CPU:0] (DEBUG INFO) Executor start aborting (this does not indicate an error and you can ignore this message): INVALID_ARGUMENT: You must feed a value for placeholder tensor 'gradients/split_2_grad/concat/split_2/split_dim' with dtype int32\n",
      "\t [[{{node gradients/split_2_grad/concat/split_2/split_dim}}]]\n",
      "2024-07-08 13:27:40.659738: I tensorflow/core/common_runtime/executor.cc:1197] [/device:CPU:0] (DEBUG INFO) Executor start aborting (this does not indicate an error and you can ignore this message): INVALID_ARGUMENT: You must feed a value for placeholder tensor 'gradients/split_grad/concat/split/split_dim' with dtype int32\n",
      "\t [[{{node gradients/split_grad/concat/split/split_dim}}]]\n",
      "2024-07-08 13:27:40.660255: I tensorflow/core/common_runtime/executor.cc:1197] [/device:CPU:0] (DEBUG INFO) Executor start aborting (this does not indicate an error and you can ignore this message): INVALID_ARGUMENT: You must feed a value for placeholder tensor 'gradients/split_1_grad/concat/split_1/split_dim' with dtype int32\n",
      "\t [[{{node gradients/split_1_grad/concat/split_1/split_dim}}]]\n"
     ]
    },
    {
     "name": "stdout",
     "output_type": "stream",
     "text": [
      "201/201 [==============================] - 37s 176ms/step - loss: 0.3891 - accuracy: 0.8218 - val_loss: 0.2854 - val_accuracy: 0.8930 - lr: 0.0010\n",
      "Epoch 2/10\n",
      "201/201 [==============================] - 34s 168ms/step - loss: 0.1249 - accuracy: 0.9548 - val_loss: 0.1779 - val_accuracy: 0.9276 - lr: 0.0010\n",
      "Epoch 3/10\n",
      "201/201 [==============================] - 37s 186ms/step - loss: 0.0298 - accuracy: 0.9894 - val_loss: 0.3828 - val_accuracy: 0.8804 - lr: 0.0010\n",
      "Epoch 4/10\n",
      "201/201 [==============================] - 37s 186ms/step - loss: 0.0114 - accuracy: 0.9964 - val_loss: 0.2241 - val_accuracy: 0.9215 - lr: 0.0010\n",
      "Epoch 5/10\n",
      "201/201 [==============================] - 36s 181ms/step - loss: 0.0030 - accuracy: 0.9991 - val_loss: 0.2549 - val_accuracy: 0.9238 - lr: 2.0000e-04\n"
     ]
    },
    {
     "name": "stderr",
     "output_type": "stream",
     "text": [
      "2024-07-08 13:30:09.051287: I tensorflow/core/common_runtime/executor.cc:1197] [/device:CPU:0] (DEBUG INFO) Executor start aborting (this does not indicate an error and you can ignore this message): INVALID_ARGUMENT: You must feed a value for placeholder tensor 'gradients/split_2_grad/concat/split_2/split_dim' with dtype int32\n",
      "\t [[{{node gradients/split_2_grad/concat/split_2/split_dim}}]]\n",
      "2024-07-08 13:30:09.052169: I tensorflow/core/common_runtime/executor.cc:1197] [/device:CPU:0] (DEBUG INFO) Executor start aborting (this does not indicate an error and you can ignore this message): INVALID_ARGUMENT: You must feed a value for placeholder tensor 'gradients/split_grad/concat/split/split_dim' with dtype int32\n",
      "\t [[{{node gradients/split_grad/concat/split/split_dim}}]]\n",
      "2024-07-08 13:30:09.052817: I tensorflow/core/common_runtime/executor.cc:1197] [/device:CPU:0] (DEBUG INFO) Executor start aborting (this does not indicate an error and you can ignore this message): INVALID_ARGUMENT: You must feed a value for placeholder tensor 'gradients/split_1_grad/concat/split_1/split_dim' with dtype int32\n",
      "\t [[{{node gradients/split_1_grad/concat/split_1/split_dim}}]]\n",
      "2024-07-08 13:30:09.127934: I tensorflow/core/common_runtime/executor.cc:1197] [/device:CPU:0] (DEBUG INFO) Executor start aborting (this does not indicate an error and you can ignore this message): INVALID_ARGUMENT: You must feed a value for placeholder tensor 'gradients/ReverseV2_grad/ReverseV2/ReverseV2/axis' with dtype int32 and shape [1]\n",
      "\t [[{{node gradients/ReverseV2_grad/ReverseV2/ReverseV2/axis}}]]\n",
      "2024-07-08 13:30:09.152576: I tensorflow/core/common_runtime/executor.cc:1197] [/device:CPU:0] (DEBUG INFO) Executor start aborting (this does not indicate an error and you can ignore this message): INVALID_ARGUMENT: You must feed a value for placeholder tensor 'gradients/split_2_grad/concat/split_2/split_dim' with dtype int32\n",
      "\t [[{{node gradients/split_2_grad/concat/split_2/split_dim}}]]\n",
      "2024-07-08 13:30:09.153114: I tensorflow/core/common_runtime/executor.cc:1197] [/device:CPU:0] (DEBUG INFO) Executor start aborting (this does not indicate an error and you can ignore this message): INVALID_ARGUMENT: You must feed a value for placeholder tensor 'gradients/split_grad/concat/split/split_dim' with dtype int32\n",
      "\t [[{{node gradients/split_grad/concat/split/split_dim}}]]\n",
      "2024-07-08 13:30:09.153599: I tensorflow/core/common_runtime/executor.cc:1197] [/device:CPU:0] (DEBUG INFO) Executor start aborting (this does not indicate an error and you can ignore this message): INVALID_ARGUMENT: You must feed a value for placeholder tensor 'gradients/split_1_grad/concat/split_1/split_dim' with dtype int32\n",
      "\t [[{{node gradients/split_1_grad/concat/split_1/split_dim}}]]\n",
      "2024-07-08 13:30:09.230445: I tensorflow/core/common_runtime/executor.cc:1197] [/device:CPU:0] (DEBUG INFO) Executor start aborting (this does not indicate an error and you can ignore this message): INVALID_ARGUMENT: You must feed a value for placeholder tensor 'gradients/split_2_grad/concat/split_2/split_dim' with dtype int32\n",
      "\t [[{{node gradients/split_2_grad/concat/split_2/split_dim}}]]\n",
      "2024-07-08 13:30:09.230926: I tensorflow/core/common_runtime/executor.cc:1197] [/device:CPU:0] (DEBUG INFO) Executor start aborting (this does not indicate an error and you can ignore this message): INVALID_ARGUMENT: You must feed a value for placeholder tensor 'gradients/split_grad/concat/split/split_dim' with dtype int32\n",
      "\t [[{{node gradients/split_grad/concat/split/split_dim}}]]\n",
      "2024-07-08 13:30:09.231434: I tensorflow/core/common_runtime/executor.cc:1197] [/device:CPU:0] (DEBUG INFO) Executor start aborting (this does not indicate an error and you can ignore this message): INVALID_ARGUMENT: You must feed a value for placeholder tensor 'gradients/split_1_grad/concat/split_1/split_dim' with dtype int32\n",
      "\t [[{{node gradients/split_1_grad/concat/split_1/split_dim}}]]\n"
     ]
    },
    {
     "name": "stdout",
     "output_type": "stream",
     "text": [
      "67/67 [==============================] - 3s 43ms/step\n"
     ]
    }
   ],
   "source": [
    "# Improved LSTM model\n",
    "Imp_model_lstm = Sequential()\n",
    "Imp_model_lstm.add(Embedding(input_dim=len(word_index) + 1,\n",
    "                         output_dim=word2vec_model.vector_size,\n",
    "                         weights=[embedding_matrix],\n",
    "                         input_length=max_sequence_length,\n",
    "                         trainable=True))  # Set trainable=True to fine-tune embeddings\n",
    "Imp_model_lstm.add(Bidirectional(LSTM(128, return_sequences=True)))\n",
    "Imp_model_lstm.add(Dropout(0.5))\n",
    "Imp_model_lstm.add(LSTM(64))\n",
    "Imp_model_lstm.add(Dense(1, activation='sigmoid'))\n",
    "\n",
    "Imp_model_lstm.compile(optimizer='adam', loss='binary_crossentropy', metrics=['accuracy'])\n",
    "\n",
    "# Callbacks\n",
    "early_stopping = EarlyStopping(monitor='val_loss', patience=3, restore_best_weights=True)\n",
    "reduce_lr = ReduceLROnPlateau(monitor='val_loss', factor=0.2, patience=2)\n",
    "\n",
    "# Train LSTM model\n",
    "imp_history = Imp_model_lstm.fit(X_train_pad, y_train_pad, epochs=10, batch_size=32, validation_data=(X_val_pad, y_val_pad),\n",
    "               callbacks=[early_stopping, reduce_lr])\n",
    "\n",
    "# Evaluate on test data\n",
    "test_predictions = Imp_model_lstm.predict(X_test_pad)\n"
   ]
  },
  {
   "cell_type": "code",
   "execution_count": 29,
   "id": "8f170d6d-a2bf-4319-9ee6-463778799052",
   "metadata": {},
   "outputs": [
    {
     "name": "stdout",
     "output_type": "stream",
     "text": [
      "67/67 [==============================] - 3s 48ms/step\n",
      "LSTM Validation - Accuracy: 0.927570093457944, Precision: 0.9148753224419605, Recall: 0.95, F1-Score: 0.9321068769163382\n"
     ]
    }
   ],
   "source": [
    "# Predict and evaluate\n",
    "y_pred_val_Imp_lstm = (Imp_model_lstm.predict(X_val_pad) > 0.5).astype(\"int32\")\n",
    "accuracy_val_Imp_lstm = accuracy_score(y_val_pad, y_pred_val_Imp_lstm)\n",
    "precision_val_Imp_lstm = precision_score(y_val_pad, y_pred_val_Imp_lstm)\n",
    "recall_val_Imp_lstm = recall_score(y_val_pad, y_pred_val_Imp_lstm)\n",
    "f1_val_Imp_lstm = f1_score(y_val_pad, y_pred_val_Imp_lstm)\n",
    "\n",
    "print(f'LSTM Validation - Accuracy: {accuracy_val_Imp_lstm}, Precision: {precision_val_Imp_lstm}, Recall: {recall_val_Imp_lstm}, F1-Score: {f1_val_Imp_lstm}')"
   ]
  },
  {
   "cell_type": "code",
   "execution_count": 30,
   "id": "c9dadb6d-6b12-4669-9347-4265d3117328",
   "metadata": {},
   "outputs": [
    {
     "name": "stdout",
     "output_type": "stream",
     "text": [
      "      Metric K-Nearest Neighbors (KNN) Long Short-Term Memory (LSTM)  \\\n",
      "0   Accuracy         0.9005 (Accuracy)             0.8379 (Accuracy)   \n",
      "1  Precision        0.9097 (Precision)            0.8756 (Precision)   \n",
      "2     Recall           0.8991 (Recall)               0.8045 (Recall)   \n",
      "3   F1-Score         0.9044 (F1-Score)             0.8385 (F1-Score)   \n",
      "\n",
      "  Improved Long Short-Term Memory (LSTM)  \n",
      "0                      0.9276 (Accuracy)  \n",
      "1                     0.9149 (Precision)  \n",
      "2                        0.9500 (Recall)  \n",
      "3                      0.9321 (F1-Score)  \n"
     ]
    }
   ],
   "source": [
    "# Improved LSTM model results\n",
    "imp_lstm_results = {\n",
    "    'Metric': ['Accuracy', 'Precision', 'Recall', 'F1-Score'],\n",
    "    'Improved Long Short-Term Memory (LSTM)': [\n",
    "        f'{accuracy_val_Imp_lstm:.4f} (Accuracy)', \n",
    "        f'{precision_val_Imp_lstm:.4f} (Precision)', \n",
    "        f'{recall_val_Imp_lstm:.4f} (Recall)', \n",
    "        f'{f1_val_Imp_lstm:.4f} (F1-Score)'\n",
    "    ]\n",
    "}\n",
    "\n",
    "imp_lstm_df = pd.DataFrame(imp_lstm_results)\n",
    "new_comparison_df = pd.merge(comparison_df, imp_lstm_df, on='Metric')\n",
    "\n",
    "# Display the comparison table\n",
    "print(new_comparison_df)"
   ]
  },
  {
   "cell_type": "code",
   "execution_count": 32,
   "id": "11ac1cb8-fc1d-4e0b-8892-739ad37e1e5d",
   "metadata": {},
   "outputs": [
    {
     "data": {
      "image/png": "[encoded data removed]",
      "text/plain": [
       "<Figure size 1200x800 with 1 Axes>"
      ]
     },
     "metadata": {},
     "output_type": "display_data"
    }
   ],
   "source": [
    "import matplotlib.pyplot as plt\n",
    "knn_df = pd.DataFrame(knn_results)\n",
    "lstm_df = pd.DataFrame(lstm_results)\n",
    "imp_lstm_df = pd.DataFrame(imp_lstm_results)\n",
    "\n",
    "comparison_df = pd.merge(knn_df, lstm_df, on='Metric')\n",
    "comparison_df = pd.merge(comparison_df, imp_lstm_df, on='Metric')\n",
    "\n",
    "# Extract numerical values for plotting\n",
    "comparison_df['K-Nearest Neighbors (KNN)'] = comparison_df['K-Nearest Neighbors (KNN)'].str.extract(r'([0-9.]+)').astype(float)\n",
    "comparison_df['Long Short-Term Memory (LSTM)'] = comparison_df['Long Short-Term Memory (LSTM)'].str.extract(r'([0-9.]+)').astype(float)\n",
    "comparison_df['Improved Long Short-Term Memory (LSTM)'] = comparison_df['Improved Long Short-Term Memory (LSTM)'].str.extract(r'([0-9.]+)').astype(float)\n",
    "\n",
    "# Plotting\n",
    "fig, ax = plt.subplots(figsize=(12, 8))\n",
    "\n",
    "# Plot each model's metrics\n",
    "ax.plot(comparison_df['Metric'], comparison_df['K-Nearest Neighbors (KNN)'], marker='o', label='K-Nearest Neighbors (KNN)')\n",
    "ax.plot(comparison_df['Metric'], comparison_df['Long Short-Term Memory (LSTM)'], marker='o', label='Long Short-Term Memory (LSTM)')\n",
    "ax.plot(comparison_df['Metric'], comparison_df['Improved Long Short-Term Memory (LSTM)'], marker='o', label='Improved Long Short-Term Memory (LSTM)')\n",
    "\n",
    "# Adding labels and title\n",
    "ax.set_xlabel('Metric')\n",
    "ax.set_ylabel('Score')\n",
    "ax.set_title('Performance Comparison of KNN, LSTM, and Improved LSTM')\n",
    "ax.legend()\n",
    "\n",
    "# Display the plot\n",
    "plt.grid(True)\n",
    "plt.show()"
   ]
  },
  {
   "cell_type": "markdown",
   "id": "f224d6d2-7dd2-4cd5-8781-9cd663be2141",
   "metadata": {},
   "source": [
    "As you can see from the graph above, the improved LSTM outperformed the KNN and the original LSTM models in every metric."
   ]
  },
  {
   "cell_type": "code",
   "execution_count": 33,
   "id": "596953ca-22f4-4fbe-91e8-4e7fef2f837d",
   "metadata": {},
   "outputs": [
    {
     "data": {
      "image/png": "[encoded data removed]",
      "text/plain": [
       "<Figure size 1600x1200 with 4 Axes>"
      ]
     },
     "metadata": {},
     "output_type": "display_data"
    }
   ],
   "source": [
    "# Retrieve metrics from original LSTM model\n",
    "train_accuracy = history.history['accuracy']\n",
    "val_accuracy = history.history['val_accuracy']\n",
    "train_loss = history.history['loss']\n",
    "val_loss = history.history['val_loss']\n",
    "\n",
    "# Retrieve metrics from improved LSTM model\n",
    "imp_train_accuracy = imp_history.history['accuracy']\n",
    "imp_val_accuracy = imp_history.history['val_accuracy']\n",
    "imp_train_loss = imp_history.history['loss']\n",
    "imp_val_loss = imp_history.history['val_loss']\n",
    "\n",
    "# Plotting accuracy and loss side by side\n",
    "fig, axs = plt.subplots(2, 2, figsize=(16, 12))\n",
    "\n",
    "# Plot Training and Validation Accuracy\n",
    "axs[0, 0].plot(range(1, len(train_accuracy) + 1), train_accuracy, marker='o', linestyle='-', color='b', label='Training Accuracy')\n",
    "axs[0, 0].plot(range(1, len(val_accuracy) + 1), val_accuracy, marker='o', linestyle='-', color='r', label='Validation Accuracy')\n",
    "axs[0, 0].set_title('Original LSTM Training and Validation Accuracy over Epochs')\n",
    "axs[0, 0].set_xlabel('Epochs')\n",
    "axs[0, 0].set_ylabel('Accuracy')\n",
    "axs[0, 0].set_xticks(range(1, len(train_accuracy) + 1))\n",
    "axs[0, 0].legend()\n",
    "axs[0, 0].grid(True)\n",
    "\n",
    "# Plot Training and Validation Loss\n",
    "axs[0, 1].plot(range(1, len(train_loss) + 1), train_loss, marker='o', linestyle='-', color='b', label='Training Loss')\n",
    "axs[0, 1].plot(range(1, len(val_loss) + 1), val_loss, marker='o', linestyle='-', color='r', label='Validation Loss')\n",
    "axs[0, 1].set_title('Original LSTM Training and Validation Loss over Epochs')\n",
    "axs[0, 1].set_xlabel('Epochs')\n",
    "axs[0, 1].set_ylabel('Loss')\n",
    "axs[0, 1].set_xticks(range(1, len(train_loss) + 1))\n",
    "axs[0, 1].legend()\n",
    "axs[0, 1].grid(True)\n",
    "\n",
    "# Plot Training and Validation Accuracy (Improved LSTM)\n",
    "axs[1, 0].plot(range(1, len(imp_train_accuracy) + 1), imp_train_accuracy, marker='o', linestyle='-', color='b', label='Training Accuracy (Improved)')\n",
    "axs[1, 0].plot(range(1, len(imp_val_accuracy) + 1), imp_val_accuracy, marker='o', linestyle='-', color='r', label='Validation Accuracy (Improved)')\n",
    "axs[1, 0].set_title('Improved LSTM Training and Validation Accuracy over Epochs')\n",
    "axs[1, 0].set_xlabel('Epochs')\n",
    "axs[1, 0].set_ylabel('Accuracy')\n",
    "axs[1, 0].set_xticks(range(1, len(imp_train_accuracy) + 1))\n",
    "axs[1, 0].legend()\n",
    "axs[1, 0].grid(True)\n",
    "\n",
    "# Plot Training and Validation Loss (Improved LSTM)\n",
    "axs[1, 1].plot(range(1, len(imp_train_loss) + 1), imp_train_loss, marker='o', linestyle='-', color='b', label='Training Loss (Improved)')\n",
    "axs[1, 1].plot(range(1, len(imp_val_loss) + 1), imp_val_loss, marker='o', linestyle='-', color='r', label='Validation Loss (Improved)')\n",
    "axs[1, 1].set_title('Improved LSTM Training and Validation Loss over Epochs')\n",
    "axs[1, 1].set_xlabel('Epochs')\n",
    "axs[1, 1].set_ylabel('Loss')\n",
    "axs[1, 1].set_xticks(range(1, len(imp_train_loss) + 1))\n",
    "axs[1, 1].legend()\n",
    "axs[1, 1].grid(True)\n",
    "\n",
    "plt.tight_layout()\n",
    "plt.show()\n"
   ]
  },
  {
   "cell_type": "markdown",
   "id": "058c126a-8938-43b6-9a4c-be7a64cc3067",
   "metadata": {},
   "source": [
    "Accuracy\n",
    "- In the original LSTM model, it increased over the number of epochs as the model is learning from the training data.\n",
    "- In the improved LSTM model, it also displayed a similar pattern to the original LSTM model, whereby it increased over the number of epochs but it showed a more consistent upward trent and stablized at a higher accuracy as compared to the original LSTM model.\n",
    "\n",
    "Validation Loss\n",
    "- In the original LSTM model, the loss decreased over the number of epochs as the model is minimizing the error in predictions\n",
    "- In the improved LSTM mode, it displayed a similar pattern to the original LSTM model, whereby it decreased over the number of epochs but it is a more consistent decline and it stablized at a lower value compared to the original model."
   ]
  },
  {
   "cell_type": "markdown",
   "id": "90be0f38-2474-44bc-9921-08b53c9ab6f9",
   "metadata": {},
   "source": [
    "## Performance Analysis & Comparative Discussion"
   ]
  },
  {
   "cell_type": "markdown",
   "id": "59c173d7-486d-446f-b579-68998643466c",
   "metadata": {},
   "source": [
    "The table below shows the comparison of the performance metrics for the KNN, LSTM and Improved LSTM models"
   ]
  },
  {
   "cell_type": "code",
   "execution_count": 34,
   "id": "d6fb5b21-b65e-4d3f-aaa1-074b26dadeaa",
   "metadata": {},
   "outputs": [
    {
     "name": "stdout",
     "output_type": "stream",
     "text": [
      "      Metric K-Nearest Neighbors (KNN) Long Short-Term Memory (LSTM)  \\\n",
      "0   Accuracy         0.9005 (Accuracy)             0.8379 (Accuracy)   \n",
      "1  Precision        0.9097 (Precision)            0.8756 (Precision)   \n",
      "2     Recall           0.8991 (Recall)               0.8045 (Recall)   \n",
      "3   F1-Score         0.9044 (F1-Score)             0.8385 (F1-Score)   \n",
      "\n",
      "  Improved Long Short-Term Memory (LSTM)  \n",
      "0                      0.9276 (Accuracy)  \n",
      "1                     0.9149 (Precision)  \n",
      "2                        0.9500 (Recall)  \n",
      "3                      0.9321 (F1-Score)  \n"
     ]
    }
   ],
   "source": [
    "# Display the comparison table\n",
    "print(new_comparison_df)"
   ]
  },
  {
   "cell_type": "markdown",
   "id": "fb00819f-80e8-472d-9295-726ec83d0449",
   "metadata": {},
   "source": [
    "The KNN model achieved a higher validation accuracy compared to the initial LSTM model which indicates that for this particular dataset, the traditional KNN model performed slightly better than the initial LSTM model.\n",
    "\n",
    "The KNN model also had a higher recall which translates to the fact that it was better at correctly identifying fake tweets. However, the LSTM model achieved a slightly higher precision score which suggests that it was better at predicting the outcome of a fake tweet correctly.\n",
    "\n",
    "The Improved LSTM model outperformed both the KNN and LSTM in all metrics which suggests that with the appropriate tuning and adjustments, a deep learning model like LSTM can perform better than traditional models."
   ]
  },
  {
   "cell_type": "markdown",
   "id": "f2704c2b-de89-4480-ae8c-97d736d45c76",
   "metadata": {},
   "source": [
    "### Advantages and Disadvantages"
   ]
  },
  {
   "cell_type": "markdown",
   "id": "801ed3be-cafd-4c7c-aa71-d5a950cc0350",
   "metadata": {},
   "source": [
    "KNN:\n",
    "- Advantages: Simple implementation, effective on small dataset, no training required\n",
    "- Disadvantages: Sensitive to noisy and missing data, requires feature scaling, ineffective on large datasets\n",
    "\n",
    "LSTM:\n",
    "- Advantages: Ability to handle long sequences, avoids vanishing gradient problem, able to handle variable-length sequences, effective on large datasets\n",
    "- Disadvantages: Computational complexity, overfitting, limited interpretability, long training times"
   ]
  },
  {
   "cell_type": "markdown",
   "id": "b786f73d-ff18-4152-bc62-235a93158f57",
   "metadata": {},
   "source": [
    "### Hypothesized Reasons for Performance Disparities"
   ]
  },
  {
   "cell_type": "markdown",
   "id": "e00d1e35-f0e5-4f5f-b6a3-e97d5a41cf58",
   "metadata": {},
   "source": [
    "This surprising outcome could be due to several factors such as:\n",
    "1. Data Characteristics\n",
    "   - The TF-IDF features may be more suitable for a distance-based classifier like KNN.\n",
    "2. Complexity of the Model\n",
    "   - Since the LSTM model is more complex, it probably might need more data or fine-tuning to outperform the KNN model.\n",
    "3. Validation, Training and Testing Split of Data\n",
    "   - The split of the data into training, validation and testing sets can affect the model performance."
   ]
  },
  {
   "cell_type": "markdown",
   "id": "37acc885-6b11-4409-bab1-26f355cbdae5",
   "metadata": {},
   "source": [
    "## Project Summary and Reflections"
   ]
  },
  {
   "cell_type": "markdown",
   "id": "53ca947c-c442-4a9c-82ff-4a5da10cb3a8",
   "metadata": {},
   "source": [
    "### Learning Experience"
   ]
  },
  {
   "cell_type": "markdown",
   "id": "e62f15f3-59d0-49d8-90d3-a0ef13da6c77",
   "metadata": {},
   "source": [
    "This project has provided valuable insights pertaining to the effectiveness of traditional statistical models and modern deep learning models for text classification as I've always had the impression that a modern deep learning model would definetly out perform a traditional statistical model. But through this project, I've learnt that the KNN is more practical for smaller datasets and the LSTM will be more effective on larger datasets and complex sequential data but it will require more computational power and fine tuning."
   ]
  },
  {
   "cell_type": "markdown",
   "id": "65d8203e-4e38-4fc5-b27a-7834093e9d6e",
   "metadata": {},
   "source": [
    "### Potential Applications in the Real World"
   ]
  },
  {
   "cell_type": "markdown",
   "id": "e4b03f42-2c80-43fa-95e5-1f7ea4bf6e41",
   "metadata": {},
   "source": [
    "The KNN model would be suitable for simple and quick text classification tasks such as spam detection or basic sentiment analysis. Whereas, the LSTM model would be more suited for more complex tasks such as contextual understanding in chatbots, predictive text generation or detailed sentiment analysi or when there's a large dataset."
   ]
  },
  {
   "cell_type": "markdown",
   "id": "825c4ea4-6774-4617-941a-286da12e5732",
   "metadata": {},
   "source": [
    "### Contribution to the Problem Area"
   ]
  },
  {
   "cell_type": "markdown",
   "id": "c5ac9365-2de0-4783-a1ef-5bf703058969",
   "metadata": {},
   "source": [
    "With the improved LSTM model, it demonstrates the potential for more accurate classification of tweets in terms of them being real or fake which can contribute significantly to the fake news detection on social media platforms and in turn providing a more reliable tool for identifying misinformation as compared to other methods."
   ]
  },
  {
   "cell_type": "markdown",
   "id": "d68ce5ed-f063-46f4-bc58-dc3620563894",
   "metadata": {},
   "source": [
    "### Transferability to Other Domain-Specific Areas"
   ]
  },
  {
   "cell_type": "markdown",
   "id": "b54f34c4-32d7-4b0d-a6fd-3957ef957f18",
   "metadata": {},
   "source": [
    "The methodologies and insights that I've gained from this project can be transferred to other domains that involve text classification, such as email filtering and health information categorization. Take health information categorization as an example, where health information will be filtered according to their disease type based on certain words, that can be customized using a list."
   ]
  },
  {
   "cell_type": "markdown",
   "id": "f9c181ae-a727-4ed6-97a0-fa6a8eccb15a",
   "metadata": {},
   "source": [
    "### Improvements and Future Directions"
   ]
  },
  {
   "cell_type": "markdown",
   "id": "e3c200aa-2956-47ac-b6f4-2a695ab380b4",
   "metadata": {},
   "source": [
    "In terms of improvements, a larger dataset would be better for the LSTM model or one could utilize data augmentation techniques to increase the diversity and size of the dataset. Another improvement would be to try and experiment with a hybrid model where it would be a combination of a traditional and deep learning model to utilize the strengths of both. The last improvement would be to develop a system where it would be able to become a real-time fake news detection and analysis as that would be more practical for more users which translates to reaching out to a larger user base."
   ]
  },
  {
   "cell_type": "markdown",
   "id": "3ce576c0-d979-4ae7-a005-a2c34ce3e466",
   "metadata": {},
   "source": [
    "## References"
   ]
  },
  {
   "cell_type": "markdown",
   "id": "10c94a2e-0d00-457a-807e-a29a20ebd83a",
   "metadata": {},
   "source": [
    "Aghammadzada, E. (2021) COVID19 Fake News Dataset NLP. Kaggle. Retrieved from: https://www.kaggle.com/datasets/elvinagammed/covid19-fake-news-dataset-nlp/code\n",
    "\n",
    "Khairul Hafidz Alkhair, Muhammad Hafiz Yusof, Mohd Faiz Itam, Zul Aizat Mohamad Fisal, Mohd Hamzi Mohd Yatim, Rosliza Abdul Manaf. (2022). The Role of Social Media in Disseminating Fake News during the COVID-19 Pandemic: A Case Study in Malaysia. Malaysian Journal of Medicine and Health Sciences, 18(Supplement 2). Retrieved from https://medic.upm.edu.my/upload/dokumen/2023011613365831_MJMHS_1332.pdf\n",
    "\n",
    "Tavish, S. (2024, January 8) 11 Important Model Evaluation Metrics for Machine Learning. Analytics Vidhya. Retrieved from: \n",
    "https://www.analyticsvidhya.com/blog/2019/08/11-important-model-evaluation-error-metrics/#:~:text=of%20machine%20learning.-,What%20Are%20Evaluation%20Metrics%3F,comparing%20different%20models%20or%20algorithms.\n",
    "\n",
    "Alooba. (n.d.). Data Splitting in Deep Learning. Alooba. Retrieved from: \n",
    "https://www.alooba.com/skills/concepts/deep-learning/data-splitting/\n",
    "\n",
    "Soni, A. (2020, July 3). Advantages and disadvantages of KNN. Medium. Retrieved from https://medium.com/@anuuz.soni/advantages-and-disadvantages-of-knn-ee06599b9336\n",
    "\n",
    "Prudhviraju, S. (203, October 5). LSTM Implementation: Advantages and Disadvantages. Medium. Retrieved from: https://medium.com/@prudhviraju.srivatsavaya/lstm-implementation-advantages-and-diadvantages-914a96fa0acb\n"
   ]
  }
 ],
 "metadata": {
  "kernelspec": {
   "display_name": "Python 3 (ipykernel)",
   "language": "python",
   "name": "python3"
  },
  "language_info": {
   "codemirror_mode": {
    "name": "ipython",
    "version": 3
   },
   "file_extension": ".py",
   "mimetype": "text/x-python",
   "name": "python",
   "nbconvert_exporter": "python",
   "pygments_lexer": "ipython3",
   "version": "3.11.5"
  }
 },
 "nbformat": 4,
 "nbformat_minor": 5
}
